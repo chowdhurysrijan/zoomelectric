{
 "cells": [
  {
   "cell_type": "markdown",
   "id": "4b105b3a",
   "metadata": {
    "papermill": {
     "duration": 0.017506,
     "end_time": "2023-06-28T08:47:21.247390",
     "exception": false,
     "start_time": "2023-06-28T08:47:21.229884",
     "status": "completed"
    },
    "tags": []
   },
   "source": [
    "# Analysing the Decline in sales of a variant of Electric Scooters:\n",
    "Microexperience by Bluetick.ai (MX-08-11)\n",
    "**Website**:https://www.bluetick.ai/\n",
    "**Context:** Zoom Electric introduced a new scooter model called Sprint in the electric two-wheeler segment. Initially, the sales numbers for Sprint Scooters were quite impressive during the first two weeks of its launch. However, unexpectedly, there was a sudden decline in sales thereafter. The Sprint Scooter was launched at a time of the year, different to its other variants. We have to investigate the causes behind this decline of sales based on two considerations:\n",
    "> 1) Launch Date, and 2) Influence of Email Campaigns targeted specifically for Sprint Scooters.\n",
    "* The sales are analysed based on comparison of the Sprint Scooter with any other variant (here, Sprint Limited Edition) and finding their volume of sales and growth comparison (cumulatively for the first 21 days from the date of product launch over a 7-Days rolling period).\n",
    "* The emails are analysed based on their Clickrate and Opening Rate specifically for Sprint Scooters and comparing them to industry benchmarks.\n",
    "\n",
    "**Data Visualization Chart(s) of Growth Summary in initial 3 weeks of launch**: https://public.tableau.com/views/ZoomElectricGrowthComp_Summary/Sheet1?:language=en-US&:display_count=n&:origin=viz_share_link"
   ]
  },
  {
   "cell_type": "markdown",
   "id": "1df2df98",
   "metadata": {
    "papermill": {
     "duration": 0.012966,
     "end_time": "2023-06-28T08:47:21.274662",
     "exception": false,
     "start_time": "2023-06-28T08:47:21.261696",
     "status": "completed"
    },
    "tags": []
   },
   "source": [
    "# Importing the Libraries and the Datasets."
   ]
  },
  {
   "cell_type": "code",
   "execution_count": 1,
   "id": "f363d87d",
   "metadata": {
    "execution": {
     "iopub.execute_input": "2023-06-28T08:47:21.303189Z",
     "iopub.status.busy": "2023-06-28T08:47:21.302747Z",
     "iopub.status.idle": "2023-06-28T08:47:22.259423Z",
     "shell.execute_reply": "2023-06-28T08:47:22.258265Z"
    },
    "papermill": {
     "duration": 0.974886,
     "end_time": "2023-06-28T08:47:22.262732",
     "exception": false,
     "start_time": "2023-06-28T08:47:21.287846",
     "status": "completed"
    },
    "tags": []
   },
   "outputs": [
    {
     "name": "stdout",
     "output_type": "stream",
     "text": [
      "\n",
      "Dataframe for Products:\n",
      "     product_id                   model  year product_type  base_price  \\\n",
      "0            1                  FioNex  2010      scooter       63998   \n",
      "1            2  FioNex Limited Edition  2011      scooter      127998   \n",
      "2            3                  FioNex  2013      scooter       79998   \n",
      "3            4               DeltaPlus  2014   automobile      920000   \n",
      "4            5                  Parker  2014      scooter      111998   \n",
      "5            6                  Corpel  2015   automobile      524000   \n",
      "6            7                  Sprint  2016      scooter       95998   \n",
      "7            8  Sprint Limited Edition  2017      scooter      111998   \n",
      "8            9            SigniaSafari  2017   automobile      280000   \n",
      "9           10               Zelito800  2017   automobile      686000   \n",
      "10          11               DeltaPlus  2019   automobile      760000   \n",
      "11          12           FioNex Zester  2019      scooter       55998   \n",
      "\n",
      "   production_start_date production_end_date  \n",
      "0       03-03-2010 00:00    08-06-2012 00:00  \n",
      "1       03-01-2011 00:00    30-03-2011 00:00  \n",
      "2       01-05-2013 00:00    28-12-2018 00:00  \n",
      "3       23-06-2014 00:00    28-12-2018 00:00  \n",
      "4       23-06-2014 00:00    27-01-2015 00:00  \n",
      "5       15-04-2015 00:00    01-10-2018 00:00  \n",
      "6       10-10-2016 00:00                 NaN  \n",
      "7       15-02-2017 00:00                 NaN  \n",
      "8       15-02-2017 00:00                 NaN  \n",
      "9       15-02-2017 00:00                 NaN  \n",
      "10      04-02-2019 00:00                 NaN  \n",
      "11      04-02-2019 00:00                 NaN  \n",
      "\n",
      "Dataframe for Sales:\n",
      "        customer_id  product_id sales_transaction_date     channel  \\\n",
      "0                1           7    2017-07-19 08:38:00    internet   \n",
      "1               22           7    2017-08-14 09:59:00  dealership   \n",
      "2              145           7    2019-01-20 10:40:00    internet   \n",
      "3              289           7    2017-05-09 14:20:00  dealership   \n",
      "4              331           7    2019-05-21 20:03:00  dealership   \n",
      "...            ...         ...                    ...         ...   \n",
      "37706        42179          11    2019-04-06 13:17:00    internet   \n",
      "37707        42977          11    2019-03-30 04:52:00  dealership   \n",
      "37708        48246          11    2019-05-25 20:19:00  dealership   \n",
      "37709        49214          11    2019-05-13 21:09:00  dealership   \n",
      "37710        49371          11    2019-05-28 19:24:00    internet   \n",
      "\n",
      "       dealership_id  \n",
      "0                NaN  \n",
      "1               20.0  \n",
      "2                NaN  \n",
      "3                7.0  \n",
      "4                4.0  \n",
      "...              ...  \n",
      "37706            NaN  \n",
      "37707            7.0  \n",
      "37708            9.0  \n",
      "37709            3.0  \n",
      "37710            NaN  \n",
      "\n",
      "[37711 rows x 5 columns]\n",
      "\n",
      "Dataframe for Email Subjects:\n",
      "     email_subject_id                               email_subject\n",
      "0                  1      25% off all EVs. It's a Christmas Time\n",
      "1                  2               A Brand New Scooter...and Car\n",
      "2                  3                A New Year, And Some New EVs\n",
      "3                  4               An Electric Car for a New Age\n",
      "4                  5             Green Cars , Green Friday Offer\n",
      "5                  6               Introducing A Limited Edition\n",
      "6                  7                         Sprint Up your Ride\n",
      "7                  8   Save the Planet with some Holiday Savings\n",
      "8                  9  Take out your Electric Scooter for Holiday\n",
      "9                 10             The 2013 FioNex Scooter is Here\n",
      "10                11                     Season of Savings Offer\n",
      "11                12          Cut you a deal: 20%% off on Parker\n",
      "12                13        We Really Outdid Ourselves this Year\n",
      "13                14           Go out with FioNex ! get 10%% off\n",
      "14                15                Sale is still on this Friday\n",
      "\n",
      "Dataframe for Emails Sent:\n",
      "         email_id  customer_id opened clicked bounced            sent_date  \\\n",
      "0              1           18      f       f       f  2011-01-03 15:00:00   \n",
      "1              2           30      f       f       f  2011-01-03 15:00:00   \n",
      "2              3           41      t       f       f  2011-01-03 15:00:00   \n",
      "3              4           52      f       f       f  2011-01-03 15:00:00   \n",
      "4              5           59      f       f       f  2011-01-03 15:00:00   \n",
      "...          ...          ...    ...     ...     ...                  ...   \n",
      "418153    418154        49996      f       f       f  2019-01-07 15:00:00   \n",
      "418154    418155        49997      t       f       f  2019-01-07 15:00:00   \n",
      "418155    418156        49998      f       f       f  2019-01-07 15:00:00   \n",
      "418156    418157        49999      t       f       f  2019-01-07 15:00:00   \n",
      "418157    418158        50000      t       f       f  2019-01-07 15:00:00   \n",
      "\n",
      "             opened_date clicked_date  email_subject_id  \n",
      "0                    NaN          NaN                 6  \n",
      "1                    NaN          NaN                 6  \n",
      "2       04-01-2011 10:41          NaN                 6  \n",
      "3                    NaN          NaN                 6  \n",
      "4                    NaN          NaN                 6  \n",
      "...                  ...          ...               ...  \n",
      "418153               NaN          NaN                 3  \n",
      "418154  08-01-2019 17:30          NaN                 3  \n",
      "418155               NaN          NaN                 3  \n",
      "418156  08-01-2019 13:11          NaN                 3  \n",
      "418157  08-01-2019 11:19          NaN                 3  \n",
      "\n",
      "[418158 rows x 9 columns]\n"
     ]
    }
   ],
   "source": [
    "import pandas as pd\n",
    "import matplotlib.pyplot as plt\n",
    "import plotly.graph_objects as go\n",
    "import warnings\n",
    "warnings.filterwarnings(\"ignore\")\n",
    "dfp = pd.read_csv ('/kaggle/input/products/products.csv') #dataframe for products\n",
    "dfs=pd.read_csv('/kaggle/input/products/sales.csv') #dataframe for sales\n",
    "print (\"\\nDataframe for Products:\\n\",dfp)\n",
    "print(\"\\nDataframe for Sales:\\n\",dfs)\n",
    "es=pd.read_csv('/kaggle/input/products/email_subject.csv') #es is Email Subjects Dataframe\n",
    "print(\"\\nDataframe for Email Subjects:\\n\",es)\n",
    "e=pd.read_csv('/kaggle/input/products/emails.csv') #e is the email dataframe\n",
    "print (\"\\nDataframe for Emails Sent:\\n\",e)\n"
   ]
  },
  {
   "cell_type": "code",
   "execution_count": 2,
   "id": "eef61ba7",
   "metadata": {
    "execution": {
     "iopub.execute_input": "2023-06-28T08:47:22.294286Z",
     "iopub.status.busy": "2023-06-28T08:47:22.293316Z",
     "iopub.status.idle": "2023-06-28T08:47:22.304062Z",
     "shell.execute_reply": "2023-06-28T08:47:22.302551Z"
    },
    "id": "CsflxGKkx4ky",
    "jupyter": {
     "source_hidden": true
    },
    "outputId": "68e3d654-e543-457c-968e-da0a732a347e",
    "papermill": {
     "duration": 0.02935,
     "end_time": "2023-06-28T08:47:22.306693",
     "exception": false,
     "start_time": "2023-06-28T08:47:22.277343",
     "status": "completed"
    },
    "tags": []
   },
   "outputs": [
    {
     "name": "stdout",
     "output_type": "stream",
     "text": [
      "   product_id                   model  year product_type  base_price  \\\n",
      "6           7                  Sprint  2016      scooter       95998   \n",
      "7           8  Sprint Limited Edition  2017      scooter      111998   \n",
      "\n",
      "  production_start_date production_end_date  \n",
      "6      10-10-2016 00:00                 NaN  \n",
      "7      15-02-2017 00:00                 NaN  \n"
     ]
    }
   ],
   "source": [
    "#Creating a new dataframe of products to store the data of only Sprint and Sprint LE\n",
    "rows=dfp.loc[[6,7]]\n",
    "print(rows)"
   ]
  },
  {
   "cell_type": "code",
   "execution_count": 3,
   "id": "00c4a9be",
   "metadata": {
    "execution": {
     "iopub.execute_input": "2023-06-28T08:47:22.337923Z",
     "iopub.status.busy": "2023-06-28T08:47:22.337278Z",
     "iopub.status.idle": "2023-06-28T08:47:22.359756Z",
     "shell.execute_reply": "2023-06-28T08:47:22.358517Z"
    },
    "id": "Hvi5j9QIwiL3",
    "outputId": "ec36ac45-4bf8-4bb2-929e-e31cae94dc14",
    "papermill": {
     "duration": 0.041252,
     "end_time": "2023-06-28T08:47:22.362675",
     "exception": false,
     "start_time": "2023-06-28T08:47:22.321423",
     "status": "completed"
    },
    "tags": []
   },
   "outputs": [
    {
     "data": {
      "text/html": [
       "<div>\n",
       "<style scoped>\n",
       "    .dataframe tbody tr th:only-of-type {\n",
       "        vertical-align: middle;\n",
       "    }\n",
       "\n",
       "    .dataframe tbody tr th {\n",
       "        vertical-align: top;\n",
       "    }\n",
       "\n",
       "    .dataframe thead th {\n",
       "        text-align: right;\n",
       "    }\n",
       "</style>\n",
       "<table border=\"1\" class=\"dataframe\">\n",
       "  <thead>\n",
       "    <tr style=\"text-align: right;\">\n",
       "      <th></th>\n",
       "      <th>customer_id</th>\n",
       "      <th>product_id</th>\n",
       "      <th>sales_transaction_date</th>\n",
       "      <th>channel</th>\n",
       "      <th>dealership_id</th>\n",
       "    </tr>\n",
       "  </thead>\n",
       "  <tbody>\n",
       "    <tr>\n",
       "      <th>0</th>\n",
       "      <td>1</td>\n",
       "      <td>7</td>\n",
       "      <td>2017-07-19 08:38:00</td>\n",
       "      <td>internet</td>\n",
       "      <td>NaN</td>\n",
       "    </tr>\n",
       "    <tr>\n",
       "      <th>1</th>\n",
       "      <td>22</td>\n",
       "      <td>7</td>\n",
       "      <td>2017-08-14 09:59:00</td>\n",
       "      <td>dealership</td>\n",
       "      <td>20.0</td>\n",
       "    </tr>\n",
       "    <tr>\n",
       "      <th>2</th>\n",
       "      <td>145</td>\n",
       "      <td>7</td>\n",
       "      <td>2019-01-20 10:40:00</td>\n",
       "      <td>internet</td>\n",
       "      <td>NaN</td>\n",
       "    </tr>\n",
       "    <tr>\n",
       "      <th>3</th>\n",
       "      <td>289</td>\n",
       "      <td>7</td>\n",
       "      <td>2017-05-09 14:20:00</td>\n",
       "      <td>dealership</td>\n",
       "      <td>7.0</td>\n",
       "    </tr>\n",
       "    <tr>\n",
       "      <th>4</th>\n",
       "      <td>331</td>\n",
       "      <td>7</td>\n",
       "      <td>2019-05-21 20:03:00</td>\n",
       "      <td>dealership</td>\n",
       "      <td>4.0</td>\n",
       "    </tr>\n",
       "  </tbody>\n",
       "</table>\n",
       "</div>"
      ],
      "text/plain": [
       "   customer_id  product_id sales_transaction_date     channel  dealership_id\n",
       "0            1           7    2017-07-19 08:38:00    internet            NaN\n",
       "1           22           7    2017-08-14 09:59:00  dealership           20.0\n",
       "2          145           7    2019-01-20 10:40:00    internet            NaN\n",
       "3          289           7    2017-05-09 14:20:00  dealership            7.0\n",
       "4          331           7    2019-05-21 20:03:00  dealership            4.0"
      ]
     },
     "execution_count": 3,
     "metadata": {},
     "output_type": "execute_result"
    }
   ],
   "source": [
    "dfs.head()"
   ]
  },
  {
   "cell_type": "code",
   "execution_count": 4,
   "id": "aa8ae4ee",
   "metadata": {
    "execution": {
     "iopub.execute_input": "2023-06-28T08:47:22.393050Z",
     "iopub.status.busy": "2023-06-28T08:47:22.392638Z",
     "iopub.status.idle": "2023-06-28T08:47:22.476123Z",
     "shell.execute_reply": "2023-06-28T08:47:22.474847Z"
    },
    "id": "-uqd6FmGw69Z",
    "jupyter": {
     "source_hidden": true
    },
    "outputId": "518ac32a-a4ef-4aec-f612-d1f8882b6974",
    "papermill": {
     "duration": 0.102241,
     "end_time": "2023-06-28T08:47:22.479098",
     "exception": false,
     "start_time": "2023-06-28T08:47:22.376857",
     "status": "completed"
    },
    "tags": []
   },
   "outputs": [
    {
     "data": {
      "text/html": [
       "<div>\n",
       "<style scoped>\n",
       "    .dataframe tbody tr th:only-of-type {\n",
       "        vertical-align: middle;\n",
       "    }\n",
       "\n",
       "    .dataframe tbody tr th {\n",
       "        vertical-align: top;\n",
       "    }\n",
       "\n",
       "    .dataframe thead th {\n",
       "        text-align: right;\n",
       "    }\n",
       "</style>\n",
       "<table border=\"1\" class=\"dataframe\">\n",
       "  <thead>\n",
       "    <tr style=\"text-align: right;\">\n",
       "      <th></th>\n",
       "      <th>customer_id</th>\n",
       "      <th>product_id</th>\n",
       "      <th>sales_transaction_date</th>\n",
       "      <th>channel</th>\n",
       "      <th>dealership_id</th>\n",
       "    </tr>\n",
       "  </thead>\n",
       "  <tbody>\n",
       "    <tr>\n",
       "      <th>34106</th>\n",
       "      <td>18751</td>\n",
       "      <td>1</td>\n",
       "      <td>2010-03-10 07:28:00</td>\n",
       "      <td>internet</td>\n",
       "      <td>NaN</td>\n",
       "    </tr>\n",
       "    <tr>\n",
       "      <th>35230</th>\n",
       "      <td>7236</td>\n",
       "      <td>1</td>\n",
       "      <td>2010-03-12 22:52:00</td>\n",
       "      <td>internet</td>\n",
       "      <td>NaN</td>\n",
       "    </tr>\n",
       "    <tr>\n",
       "      <th>35048</th>\n",
       "      <td>42449</td>\n",
       "      <td>1</td>\n",
       "      <td>2010-03-15 00:09:00</td>\n",
       "      <td>internet</td>\n",
       "      <td>NaN</td>\n",
       "    </tr>\n",
       "    <tr>\n",
       "      <th>34548</th>\n",
       "      <td>520</td>\n",
       "      <td>1</td>\n",
       "      <td>2010-03-17 09:34:00</td>\n",
       "      <td>internet</td>\n",
       "      <td>NaN</td>\n",
       "    </tr>\n",
       "    <tr>\n",
       "      <th>33890</th>\n",
       "      <td>34611</td>\n",
       "      <td>1</td>\n",
       "      <td>2010-03-18 23:21:00</td>\n",
       "      <td>internet</td>\n",
       "      <td>NaN</td>\n",
       "    </tr>\n",
       "  </tbody>\n",
       "</table>\n",
       "</div>"
      ],
      "text/plain": [
       "       customer_id  product_id sales_transaction_date   channel  dealership_id\n",
       "34106        18751           1    2010-03-10 07:28:00  internet            NaN\n",
       "35230         7236           1    2010-03-12 22:52:00  internet            NaN\n",
       "35048        42449           1    2010-03-15 00:09:00  internet            NaN\n",
       "34548          520           1    2010-03-17 09:34:00  internet            NaN\n",
       "33890        34611           1    2010-03-18 23:21:00  internet            NaN"
      ]
     },
     "execution_count": 4,
     "metadata": {},
     "output_type": "execute_result"
    }
   ],
   "source": [
    "#Sorting the dataframe of Sales according to date of transaction\n",
    "dfs.sort_values('sales_transaction_date',inplace=True)\n",
    "dfs.head()"
   ]
  },
  {
   "cell_type": "code",
   "execution_count": 5,
   "id": "7a0bd836",
   "metadata": {
    "execution": {
     "iopub.execute_input": "2023-06-28T08:47:22.511379Z",
     "iopub.status.busy": "2023-06-28T08:47:22.509991Z",
     "iopub.status.idle": "2023-06-28T08:47:22.536448Z",
     "shell.execute_reply": "2023-06-28T08:47:22.535274Z"
    },
    "id": "nRKHMkaUzTje",
    "jupyter": {
     "source_hidden": true
    },
    "outputId": "c01243a5-73db-4909-b93a-6370af352e7a",
    "papermill": {
     "duration": 0.045039,
     "end_time": "2023-06-28T08:47:22.539065",
     "exception": false,
     "start_time": "2023-06-28T08:47:22.494026",
     "status": "completed"
    },
    "tags": []
   },
   "outputs": [
    {
     "data": {
      "text/html": [
       "<div>\n",
       "<style scoped>\n",
       "    .dataframe tbody tr th:only-of-type {\n",
       "        vertical-align: middle;\n",
       "    }\n",
       "\n",
       "    .dataframe tbody tr th {\n",
       "        vertical-align: top;\n",
       "    }\n",
       "\n",
       "    .dataframe thead th {\n",
       "        text-align: right;\n",
       "    }\n",
       "</style>\n",
       "<table border=\"1\" class=\"dataframe\">\n",
       "  <thead>\n",
       "    <tr style=\"text-align: right;\">\n",
       "      <th></th>\n",
       "      <th>customer_id</th>\n",
       "      <th>product_id</th>\n",
       "      <th>sales_transaction_date</th>\n",
       "      <th>channel</th>\n",
       "      <th>dealership_id</th>\n",
       "    </tr>\n",
       "  </thead>\n",
       "  <tbody>\n",
       "    <tr>\n",
       "      <th>5491</th>\n",
       "      <td>4319</td>\n",
       "      <td>7</td>\n",
       "      <td>2016-10-10 00:41:00</td>\n",
       "      <td>internet</td>\n",
       "      <td>NaN</td>\n",
       "    </tr>\n",
       "    <tr>\n",
       "      <th>3910</th>\n",
       "      <td>40250</td>\n",
       "      <td>7</td>\n",
       "      <td>2016-10-10 02:47:00</td>\n",
       "      <td>dealership</td>\n",
       "      <td>4.0</td>\n",
       "    </tr>\n",
       "    <tr>\n",
       "      <th>7249</th>\n",
       "      <td>35497</td>\n",
       "      <td>7</td>\n",
       "      <td>2016-10-10 04:21:00</td>\n",
       "      <td>dealership</td>\n",
       "      <td>2.0</td>\n",
       "    </tr>\n",
       "    <tr>\n",
       "      <th>6635</th>\n",
       "      <td>4553</td>\n",
       "      <td>7</td>\n",
       "      <td>2016-10-10 07:42:00</td>\n",
       "      <td>dealership</td>\n",
       "      <td>11.0</td>\n",
       "    </tr>\n",
       "    <tr>\n",
       "      <th>2123</th>\n",
       "      <td>11678</td>\n",
       "      <td>7</td>\n",
       "      <td>2016-10-10 09:21:00</td>\n",
       "      <td>internet</td>\n",
       "      <td>NaN</td>\n",
       "    </tr>\n",
       "  </tbody>\n",
       "</table>\n",
       "</div>"
      ],
      "text/plain": [
       "      customer_id  product_id sales_transaction_date     channel  \\\n",
       "5491         4319           7    2016-10-10 00:41:00    internet   \n",
       "3910        40250           7    2016-10-10 02:47:00  dealership   \n",
       "7249        35497           7    2016-10-10 04:21:00  dealership   \n",
       "6635         4553           7    2016-10-10 07:42:00  dealership   \n",
       "2123        11678           7    2016-10-10 09:21:00    internet   \n",
       "\n",
       "      dealership_id  \n",
       "5491            NaN  \n",
       "3910            4.0  \n",
       "7249            2.0  \n",
       "6635           11.0  \n",
       "2123            NaN  "
      ]
     },
     "execution_count": 5,
     "metadata": {},
     "output_type": "execute_result"
    }
   ],
   "source": [
    "#Creating a new dataframe n that contains only the sales data of Sprint by Filtering the DataFrame dfs based on the specified column values\n",
    "n = dfs[(dfs['product_id'] == 7)]\n",
    "sp=n.sort_values('sales_transaction_date')\n",
    "sp.head()"
   ]
  },
  {
   "cell_type": "code",
   "execution_count": 6,
   "id": "04909d6b",
   "metadata": {
    "execution": {
     "iopub.execute_input": "2023-06-28T08:47:22.571071Z",
     "iopub.status.busy": "2023-06-28T08:47:22.570659Z",
     "iopub.status.idle": "2023-06-28T08:47:22.601452Z",
     "shell.execute_reply": "2023-06-28T08:47:22.599961Z"
    },
    "id": "6Blza1Jd0fSl",
    "jupyter": {
     "source_hidden": true
    },
    "outputId": "1b4d689e-b75b-4963-b891-8658e3d3b94d",
    "papermill": {
     "duration": 0.050215,
     "end_time": "2023-06-28T08:47:22.604347",
     "exception": false,
     "start_time": "2023-06-28T08:47:22.554132",
     "status": "completed"
    },
    "tags": []
   },
   "outputs": [
    {
     "name": "stdout",
     "output_type": "stream",
     "text": [
      "    sales_transaction_date  Sales\n",
      "0               2016-10-10      9\n",
      "1               2016-10-11      6\n",
      "2               2016-10-12     10\n",
      "3               2016-10-13     10\n",
      "4               2016-10-14      5\n",
      "..                     ...    ...\n",
      "959             2019-05-27     11\n",
      "960             2019-05-28      8\n",
      "961             2019-05-29      8\n",
      "962             2019-05-30      7\n",
      "963             2019-05-31      5\n",
      "\n",
      "[964 rows x 2 columns]\n"
     ]
    }
   ],
   "source": [
    "#Therefore, sp stores the sales data of the Product ID(=7) i.e. Sprint Bikes\n",
    "#Grouping the dataframe sp by their sales date(ignoring the time/hour) and counting such rows using size() to find number of sales on each day\n",
    "sp['sales_transaction_date']=pd.to_datetime(sp['sales_transaction_date']) #Date not provided in Pandas Date-Time form, so converted using pandas\n",
    "ndfsp= sp.groupby(sp['sales_transaction_date'].dt.date).size().reset_index(name=\"Sales\")\n",
    "print(ndfsp)"
   ]
  },
  {
   "cell_type": "markdown",
   "id": "6fad4af2",
   "metadata": {
    "papermill": {
     "duration": 0.015806,
     "end_time": "2023-06-28T08:47:22.635349",
     "exception": false,
     "start_time": "2023-06-28T08:47:22.619543",
     "status": "completed"
    },
    "tags": []
   },
   "source": [
    "# Sales Volume for first 21 days of Sprint Bikes\n"
   ]
  },
  {
   "cell_type": "code",
   "execution_count": 7,
   "id": "abe51253",
   "metadata": {
    "execution": {
     "iopub.execute_input": "2023-06-28T08:47:22.667582Z",
     "iopub.status.busy": "2023-06-28T08:47:22.667038Z",
     "iopub.status.idle": "2023-06-28T08:47:23.033323Z",
     "shell.execute_reply": "2023-06-28T08:47:23.032122Z"
    },
    "id": "nA5HOtTW-JRy",
    "jupyter": {
     "source_hidden": true
    },
    "outputId": "ba712385-23ba-4974-abbf-f733b4dc9325",
    "papermill": {
     "duration": 0.386459,
     "end_time": "2023-06-28T08:47:23.037042",
     "exception": false,
     "start_time": "2023-06-28T08:47:22.650583",
     "status": "completed"
    },
    "tags": []
   },
   "outputs": [
    {
     "name": "stderr",
     "output_type": "stream",
     "text": [
      "/opt/conda/lib/python3.10/site-packages/plotly/graph_objs/_deprecations.py:378: DeprecationWarning: plotly.graph_objs.Line is deprecated.\n",
      "Please replace it with one of the following more specific types\n",
      "  - plotly.graph_objs.scatter.Line\n",
      "  - plotly.graph_objs.layout.shape.Line\n",
      "  - etc.\n",
      "\n",
      "  warnings.warn(\n"
     ]
    },
    {
     "data": {
      "text/html": [
       "        <script type=\"text/javascript\">\n",
       "        window.PlotlyConfig = {MathJaxConfig: 'local'};\n",
       "        if (window.MathJax && window.MathJax.Hub && window.MathJax.Hub.Config) {window.MathJax.Hub.Config({SVG: {font: \"STIX-Web\"}});}\n",
       "        if (typeof require !== 'undefined') {\n",
       "        require.undef(\"plotly\");\n",
       "        requirejs.config({\n",
       "            paths: {\n",
       "                'plotly': ['https://cdn.plot.ly/plotly-2.20.0.min']\n",
       "            }\n",
       "        });\n",
       "        require(['plotly'], function(Plotly) {\n",
       "            window._Plotly = Plotly;\n",
       "        });\n",
       "        }\n",
       "        </script>\n",
       "        "
      ]
     },
     "metadata": {},
     "output_type": "display_data"
    },
    {
     "data": {
      "text/html": [
       "<div>                            <div id=\"8545b95e-f781-476e-9718-21e116e4c1be\" class=\"plotly-graph-div\" style=\"height:525px; width:100%;\"></div>            <script type=\"text/javascript\">                require([\"plotly\"], function(Plotly) {                    window.PLOTLYENV=window.PLOTLYENV || {};                                    if (document.getElementById(\"8545b95e-f781-476e-9718-21e116e4c1be\")) {                    Plotly.newPlot(                        \"8545b95e-f781-476e-9718-21e116e4c1be\",                        [{\"x\":[\"2016-10-10\",\"2016-10-11\",\"2016-10-12\",\"2016-10-13\",\"2016-10-14\",\"2016-10-15\",\"2016-10-16\",\"2016-10-17\",\"2016-10-18\",\"2016-10-19\",\"2016-10-20\",\"2016-10-21\",\"2016-10-22\",\"2016-10-23\",\"2016-10-24\",\"2016-10-25\",\"2016-10-26\",\"2016-10-27\",\"2016-10-28\",\"2016-10-29\",\"2016-10-30\",\"2016-10-31\"],\"y\":[9,6,10,10,5,10,14,9,11,12,10,6,2,5,6,9,2,4,7,5,5,3],\"type\":\"scatter\"}],                        {\"template\":{\"data\":{\"histogram2dcontour\":[{\"type\":\"histogram2dcontour\",\"colorbar\":{\"outlinewidth\":0,\"ticks\":\"\"},\"colorscale\":[[0.0,\"#0d0887\"],[0.1111111111111111,\"#46039f\"],[0.2222222222222222,\"#7201a8\"],[0.3333333333333333,\"#9c179e\"],[0.4444444444444444,\"#bd3786\"],[0.5555555555555556,\"#d8576b\"],[0.6666666666666666,\"#ed7953\"],[0.7777777777777778,\"#fb9f3a\"],[0.8888888888888888,\"#fdca26\"],[1.0,\"#f0f921\"]]}],\"choropleth\":[{\"type\":\"choropleth\",\"colorbar\":{\"outlinewidth\":0,\"ticks\":\"\"}}],\"histogram2d\":[{\"type\":\"histogram2d\",\"colorbar\":{\"outlinewidth\":0,\"ticks\":\"\"},\"colorscale\":[[0.0,\"#0d0887\"],[0.1111111111111111,\"#46039f\"],[0.2222222222222222,\"#7201a8\"],[0.3333333333333333,\"#9c179e\"],[0.4444444444444444,\"#bd3786\"],[0.5555555555555556,\"#d8576b\"],[0.6666666666666666,\"#ed7953\"],[0.7777777777777778,\"#fb9f3a\"],[0.8888888888888888,\"#fdca26\"],[1.0,\"#f0f921\"]]}],\"heatmap\":[{\"type\":\"heatmap\",\"colorbar\":{\"outlinewidth\":0,\"ticks\":\"\"},\"colorscale\":[[0.0,\"#0d0887\"],[0.1111111111111111,\"#46039f\"],[0.2222222222222222,\"#7201a8\"],[0.3333333333333333,\"#9c179e\"],[0.4444444444444444,\"#bd3786\"],[0.5555555555555556,\"#d8576b\"],[0.6666666666666666,\"#ed7953\"],[0.7777777777777778,\"#fb9f3a\"],[0.8888888888888888,\"#fdca26\"],[1.0,\"#f0f921\"]]}],\"heatmapgl\":[{\"type\":\"heatmapgl\",\"colorbar\":{\"outlinewidth\":0,\"ticks\":\"\"},\"colorscale\":[[0.0,\"#0d0887\"],[0.1111111111111111,\"#46039f\"],[0.2222222222222222,\"#7201a8\"],[0.3333333333333333,\"#9c179e\"],[0.4444444444444444,\"#bd3786\"],[0.5555555555555556,\"#d8576b\"],[0.6666666666666666,\"#ed7953\"],[0.7777777777777778,\"#fb9f3a\"],[0.8888888888888888,\"#fdca26\"],[1.0,\"#f0f921\"]]}],\"contourcarpet\":[{\"type\":\"contourcarpet\",\"colorbar\":{\"outlinewidth\":0,\"ticks\":\"\"}}],\"contour\":[{\"type\":\"contour\",\"colorbar\":{\"outlinewidth\":0,\"ticks\":\"\"},\"colorscale\":[[0.0,\"#0d0887\"],[0.1111111111111111,\"#46039f\"],[0.2222222222222222,\"#7201a8\"],[0.3333333333333333,\"#9c179e\"],[0.4444444444444444,\"#bd3786\"],[0.5555555555555556,\"#d8576b\"],[0.6666666666666666,\"#ed7953\"],[0.7777777777777778,\"#fb9f3a\"],[0.8888888888888888,\"#fdca26\"],[1.0,\"#f0f921\"]]}],\"surface\":[{\"type\":\"surface\",\"colorbar\":{\"outlinewidth\":0,\"ticks\":\"\"},\"colorscale\":[[0.0,\"#0d0887\"],[0.1111111111111111,\"#46039f\"],[0.2222222222222222,\"#7201a8\"],[0.3333333333333333,\"#9c179e\"],[0.4444444444444444,\"#bd3786\"],[0.5555555555555556,\"#d8576b\"],[0.6666666666666666,\"#ed7953\"],[0.7777777777777778,\"#fb9f3a\"],[0.8888888888888888,\"#fdca26\"],[1.0,\"#f0f921\"]]}],\"mesh3d\":[{\"type\":\"mesh3d\",\"colorbar\":{\"outlinewidth\":0,\"ticks\":\"\"}}],\"scatter\":[{\"fillpattern\":{\"fillmode\":\"overlay\",\"size\":10,\"solidity\":0.2},\"type\":\"scatter\"}],\"parcoords\":[{\"type\":\"parcoords\",\"line\":{\"colorbar\":{\"outlinewidth\":0,\"ticks\":\"\"}}}],\"scatterpolargl\":[{\"type\":\"scatterpolargl\",\"marker\":{\"colorbar\":{\"outlinewidth\":0,\"ticks\":\"\"}}}],\"bar\":[{\"error_x\":{\"color\":\"#2a3f5f\"},\"error_y\":{\"color\":\"#2a3f5f\"},\"marker\":{\"line\":{\"color\":\"#E5ECF6\",\"width\":0.5},\"pattern\":{\"fillmode\":\"overlay\",\"size\":10,\"solidity\":0.2}},\"type\":\"bar\"}],\"scattergeo\":[{\"type\":\"scattergeo\",\"marker\":{\"colorbar\":{\"outlinewidth\":0,\"ticks\":\"\"}}}],\"scatterpolar\":[{\"type\":\"scatterpolar\",\"marker\":{\"colorbar\":{\"outlinewidth\":0,\"ticks\":\"\"}}}],\"histogram\":[{\"marker\":{\"pattern\":{\"fillmode\":\"overlay\",\"size\":10,\"solidity\":0.2}},\"type\":\"histogram\"}],\"scattergl\":[{\"type\":\"scattergl\",\"marker\":{\"colorbar\":{\"outlinewidth\":0,\"ticks\":\"\"}}}],\"scatter3d\":[{\"type\":\"scatter3d\",\"line\":{\"colorbar\":{\"outlinewidth\":0,\"ticks\":\"\"}},\"marker\":{\"colorbar\":{\"outlinewidth\":0,\"ticks\":\"\"}}}],\"scattermapbox\":[{\"type\":\"scattermapbox\",\"marker\":{\"colorbar\":{\"outlinewidth\":0,\"ticks\":\"\"}}}],\"scatterternary\":[{\"type\":\"scatterternary\",\"marker\":{\"colorbar\":{\"outlinewidth\":0,\"ticks\":\"\"}}}],\"scattercarpet\":[{\"type\":\"scattercarpet\",\"marker\":{\"colorbar\":{\"outlinewidth\":0,\"ticks\":\"\"}}}],\"carpet\":[{\"aaxis\":{\"endlinecolor\":\"#2a3f5f\",\"gridcolor\":\"white\",\"linecolor\":\"white\",\"minorgridcolor\":\"white\",\"startlinecolor\":\"#2a3f5f\"},\"baxis\":{\"endlinecolor\":\"#2a3f5f\",\"gridcolor\":\"white\",\"linecolor\":\"white\",\"minorgridcolor\":\"white\",\"startlinecolor\":\"#2a3f5f\"},\"type\":\"carpet\"}],\"table\":[{\"cells\":{\"fill\":{\"color\":\"#EBF0F8\"},\"line\":{\"color\":\"white\"}},\"header\":{\"fill\":{\"color\":\"#C8D4E3\"},\"line\":{\"color\":\"white\"}},\"type\":\"table\"}],\"barpolar\":[{\"marker\":{\"line\":{\"color\":\"#E5ECF6\",\"width\":0.5},\"pattern\":{\"fillmode\":\"overlay\",\"size\":10,\"solidity\":0.2}},\"type\":\"barpolar\"}],\"pie\":[{\"automargin\":true,\"type\":\"pie\"}]},\"layout\":{\"autotypenumbers\":\"strict\",\"colorway\":[\"#636efa\",\"#EF553B\",\"#00cc96\",\"#ab63fa\",\"#FFA15A\",\"#19d3f3\",\"#FF6692\",\"#B6E880\",\"#FF97FF\",\"#FECB52\"],\"font\":{\"color\":\"#2a3f5f\"},\"hovermode\":\"closest\",\"hoverlabel\":{\"align\":\"left\"},\"paper_bgcolor\":\"white\",\"plot_bgcolor\":\"#E5ECF6\",\"polar\":{\"bgcolor\":\"#E5ECF6\",\"angularaxis\":{\"gridcolor\":\"white\",\"linecolor\":\"white\",\"ticks\":\"\"},\"radialaxis\":{\"gridcolor\":\"white\",\"linecolor\":\"white\",\"ticks\":\"\"}},\"ternary\":{\"bgcolor\":\"#E5ECF6\",\"aaxis\":{\"gridcolor\":\"white\",\"linecolor\":\"white\",\"ticks\":\"\"},\"baxis\":{\"gridcolor\":\"white\",\"linecolor\":\"white\",\"ticks\":\"\"},\"caxis\":{\"gridcolor\":\"white\",\"linecolor\":\"white\",\"ticks\":\"\"}},\"coloraxis\":{\"colorbar\":{\"outlinewidth\":0,\"ticks\":\"\"}},\"colorscale\":{\"sequential\":[[0.0,\"#0d0887\"],[0.1111111111111111,\"#46039f\"],[0.2222222222222222,\"#7201a8\"],[0.3333333333333333,\"#9c179e\"],[0.4444444444444444,\"#bd3786\"],[0.5555555555555556,\"#d8576b\"],[0.6666666666666666,\"#ed7953\"],[0.7777777777777778,\"#fb9f3a\"],[0.8888888888888888,\"#fdca26\"],[1.0,\"#f0f921\"]],\"sequentialminus\":[[0.0,\"#0d0887\"],[0.1111111111111111,\"#46039f\"],[0.2222222222222222,\"#7201a8\"],[0.3333333333333333,\"#9c179e\"],[0.4444444444444444,\"#bd3786\"],[0.5555555555555556,\"#d8576b\"],[0.6666666666666666,\"#ed7953\"],[0.7777777777777778,\"#fb9f3a\"],[0.8888888888888888,\"#fdca26\"],[1.0,\"#f0f921\"]],\"diverging\":[[0,\"#8e0152\"],[0.1,\"#c51b7d\"],[0.2,\"#de77ae\"],[0.3,\"#f1b6da\"],[0.4,\"#fde0ef\"],[0.5,\"#f7f7f7\"],[0.6,\"#e6f5d0\"],[0.7,\"#b8e186\"],[0.8,\"#7fbc41\"],[0.9,\"#4d9221\"],[1,\"#276419\"]]},\"xaxis\":{\"gridcolor\":\"white\",\"linecolor\":\"white\",\"ticks\":\"\",\"title\":{\"standoff\":15},\"zerolinecolor\":\"white\",\"automargin\":true,\"zerolinewidth\":2},\"yaxis\":{\"gridcolor\":\"white\",\"linecolor\":\"white\",\"ticks\":\"\",\"title\":{\"standoff\":15},\"zerolinecolor\":\"white\",\"automargin\":true,\"zerolinewidth\":2},\"scene\":{\"xaxis\":{\"backgroundcolor\":\"#E5ECF6\",\"gridcolor\":\"white\",\"linecolor\":\"white\",\"showbackground\":true,\"ticks\":\"\",\"zerolinecolor\":\"white\",\"gridwidth\":2},\"yaxis\":{\"backgroundcolor\":\"#E5ECF6\",\"gridcolor\":\"white\",\"linecolor\":\"white\",\"showbackground\":true,\"ticks\":\"\",\"zerolinecolor\":\"white\",\"gridwidth\":2},\"zaxis\":{\"backgroundcolor\":\"#E5ECF6\",\"gridcolor\":\"white\",\"linecolor\":\"white\",\"showbackground\":true,\"ticks\":\"\",\"zerolinecolor\":\"white\",\"gridwidth\":2}},\"shapedefaults\":{\"line\":{\"color\":\"#2a3f5f\"}},\"annotationdefaults\":{\"arrowcolor\":\"#2a3f5f\",\"arrowhead\":0,\"arrowwidth\":1},\"geo\":{\"bgcolor\":\"white\",\"landcolor\":\"#E5ECF6\",\"subunitcolor\":\"white\",\"showland\":true,\"showlakes\":true,\"lakecolor\":\"white\"},\"title\":{\"x\":0.05},\"mapbox\":{\"style\":\"light\"}}},\"title\":{\"text\":\"Sales Volume of Sprint Bikes\"},\"xaxis\":{\"title\":{\"text\":\"Date\"}},\"yaxis\":{\"title\":{\"text\":\"Number of Bikes Sold\"}}},                        {\"responsive\": true}                    ).then(function(){\n",
       "                            \n",
       "var gd = document.getElementById('8545b95e-f781-476e-9718-21e116e4c1be');\n",
       "var x = new MutationObserver(function (mutations, observer) {{\n",
       "        var display = window.getComputedStyle(gd).display;\n",
       "        if (!display || display === 'none') {{\n",
       "            console.log([gd, 'removed!']);\n",
       "            Plotly.purge(gd);\n",
       "            observer.disconnect();\n",
       "        }}\n",
       "}});\n",
       "\n",
       "// Listen for the removal of the full notebook cells\n",
       "var notebookContainer = gd.closest('#notebook-container');\n",
       "if (notebookContainer) {{\n",
       "    x.observe(notebookContainer, {childList: true});\n",
       "}}\n",
       "\n",
       "// Listen for the clearing of the current output cell\n",
       "var outputEl = gd.closest('.output');\n",
       "if (outputEl) {{\n",
       "    x.observe(outputEl, {childList: true});\n",
       "}}\n",
       "\n",
       "                        })                };                });            </script>        </div>"
      ]
     },
     "metadata": {},
     "output_type": "display_data"
    },
    {
     "name": "stdout",
     "output_type": "stream",
     "text": [
      "Sales Volume for 21 days of Sprint Bikes:\n",
      "    sales_transaction_date  Sales\n",
      "0              2016-10-10      9\n",
      "1              2016-10-11      6\n",
      "2              2016-10-12     10\n",
      "3              2016-10-13     10\n",
      "4              2016-10-14      5\n",
      "5              2016-10-15     10\n",
      "6              2016-10-16     14\n",
      "7              2016-10-17      9\n",
      "8              2016-10-18     11\n",
      "9              2016-10-19     12\n",
      "10             2016-10-20     10\n",
      "11             2016-10-21      6\n",
      "12             2016-10-22      2\n",
      "13             2016-10-23      5\n",
      "14             2016-10-24      6\n",
      "15             2016-10-25      9\n",
      "16             2016-10-26      2\n",
      "17             2016-10-27      4\n",
      "18             2016-10-28      7\n",
      "19             2016-10-29      5\n",
      "20             2016-10-30      5\n",
      "21             2016-10-31      3\n"
     ]
    }
   ],
   "source": [
    "#Plotting a Growth Chart for the first 3 weeks Sales/21 Days\n",
    "s21d=ndfsp[:22] #Dataframe to store sales data for first 21 days\n",
    "salesofsprint=go.Figure([go.Line(x=s21d['sales_transaction_date'],y=s21d['Sales'])])\n",
    "salesofsprint.update_layout(title='Sales Volume of Sprint Bikes',xaxis_title='Date',yaxis_title='Number of Bikes Sold')\n",
    "salesofsprint.show()\n",
    "print(\"Sales Volume for 21 days of Sprint Bikes:\\n\",s21d)\n",
    "\n"
   ]
  },
  {
   "cell_type": "markdown",
   "id": "137b1a41",
   "metadata": {
    "papermill": {
     "duration": 0.015171,
     "end_time": "2023-06-28T08:47:23.067479",
     "exception": false,
     "start_time": "2023-06-28T08:47:23.052308",
     "status": "completed"
    },
    "tags": []
   },
   "source": [
    "# Sales Volume for first 21 Days of Sprint Limited Edition Bikes"
   ]
  },
  {
   "cell_type": "code",
   "execution_count": 8,
   "id": "568c90bb",
   "metadata": {
    "execution": {
     "iopub.execute_input": "2023-06-28T08:47:23.100353Z",
     "iopub.status.busy": "2023-06-28T08:47:23.099863Z",
     "iopub.status.idle": "2023-06-28T08:47:23.113312Z",
     "shell.execute_reply": "2023-06-28T08:47:23.112026Z"
    },
    "id": "RIdbP8Pu-9gs",
    "jupyter": {
     "source_hidden": true
    },
    "outputId": "8670c615-90d4-452f-bbcf-40ce3803a5d0",
    "papermill": {
     "duration": 0.033562,
     "end_time": "2023-06-28T08:47:23.116500",
     "exception": false,
     "start_time": "2023-06-28T08:47:23.082938",
     "status": "completed"
    },
    "tags": []
   },
   "outputs": [],
   "source": [
    "#Creating a new dataframe that stores only the Sales Data of the Sprint LE\n",
    "n1 = dfs[(dfs['product_id'] == 8)]\n",
    "sle=n1.sort_values('sales_transaction_date')\n",
    "#sle.head(100)"
   ]
  },
  {
   "cell_type": "code",
   "execution_count": 9,
   "id": "b1bb9a2f",
   "metadata": {
    "execution": {
     "iopub.execute_input": "2023-06-28T08:47:23.151886Z",
     "iopub.status.busy": "2023-06-28T08:47:23.151468Z",
     "iopub.status.idle": "2023-06-28T08:47:23.173799Z",
     "shell.execute_reply": "2023-06-28T08:47:23.172234Z"
    },
    "id": "9_g9dInAB7es",
    "jupyter": {
     "source_hidden": true
    },
    "outputId": "bc4e5762-377d-427f-99e3-2f0ee4e78070",
    "papermill": {
     "duration": 0.042973,
     "end_time": "2023-06-28T08:47:23.176504",
     "exception": false,
     "start_time": "2023-06-28T08:47:23.133531",
     "status": "completed"
    },
    "tags": []
   },
   "outputs": [],
   "source": [
    "#Therefore, sle stores the sales data of the Product ID(=8) i.e. Sprint Limited Edition Bikes\n",
    "#Grouping the dataframe sle by their sales date(ignoring the time/hour) and counting such rows to find number of sales on each day\n",
    "sle['sales_transaction_date']=pd.to_datetime(sle['sales_transaction_date']) #Date not provided in Pandas Date-Time form, so converted using pandas\n",
    "ndfsle= sle.groupby(sle['sales_transaction_date'].dt.date).size().reset_index(name=\"Sales\")\n",
    "#ndfsle.head(21)"
   ]
  },
  {
   "cell_type": "code",
   "execution_count": 10,
   "id": "39d913e5",
   "metadata": {
    "execution": {
     "iopub.execute_input": "2023-06-28T08:47:23.210509Z",
     "iopub.status.busy": "2023-06-28T08:47:23.209985Z",
     "iopub.status.idle": "2023-06-28T08:47:23.231959Z",
     "shell.execute_reply": "2023-06-28T08:47:23.230253Z"
    },
    "id": "vv_5TNKcCYni",
    "jupyter": {
     "source_hidden": true
    },
    "outputId": "1fc1b53c-62d8-419f-9c31-204e0f7f6f69",
    "papermill": {
     "duration": 0.042181,
     "end_time": "2023-06-28T08:47:23.234503",
     "exception": false,
     "start_time": "2023-06-28T08:47:23.192322",
     "status": "completed"
    },
    "tags": []
   },
   "outputs": [
    {
     "name": "stderr",
     "output_type": "stream",
     "text": [
      "/opt/conda/lib/python3.10/site-packages/plotly/graph_objs/_deprecations.py:378: DeprecationWarning:\n",
      "\n",
      "plotly.graph_objs.Line is deprecated.\n",
      "Please replace it with one of the following more specific types\n",
      "  - plotly.graph_objs.scatter.Line\n",
      "  - plotly.graph_objs.layout.shape.Line\n",
      "  - etc.\n",
      "\n",
      "\n"
     ]
    },
    {
     "data": {
      "text/html": [
       "<div>                            <div id=\"8a3fa8f8-c171-4bfd-adbc-1709118ed2d4\" class=\"plotly-graph-div\" style=\"height:525px; width:100%;\"></div>            <script type=\"text/javascript\">                require([\"plotly\"], function(Plotly) {                    window.PLOTLYENV=window.PLOTLYENV || {};                                    if (document.getElementById(\"8a3fa8f8-c171-4bfd-adbc-1709118ed2d4\")) {                    Plotly.newPlot(                        \"8a3fa8f8-c171-4bfd-adbc-1709118ed2d4\",                        [{\"x\":[\"2017-02-15\",\"2017-02-16\",\"2017-02-17\",\"2017-02-18\",\"2017-02-19\",\"2017-02-20\",\"2017-02-21\",\"2017-02-22\",\"2017-02-23\",\"2017-02-24\",\"2017-02-25\",\"2017-02-26\",\"2017-02-27\",\"2017-02-28\",\"2017-03-01\",\"2017-03-02\",\"2017-03-03\",\"2017-03-04\",\"2017-03-05\",\"2017-03-06\",\"2017-03-07\",\"2017-03-08\"],\"y\":[6,2,1,4,5,6,5,4,6,2,2,2,4,4,5,1,3,8,4,7,7,8],\"type\":\"scatter\"}],                        {\"template\":{\"data\":{\"histogram2dcontour\":[{\"type\":\"histogram2dcontour\",\"colorbar\":{\"outlinewidth\":0,\"ticks\":\"\"},\"colorscale\":[[0.0,\"#0d0887\"],[0.1111111111111111,\"#46039f\"],[0.2222222222222222,\"#7201a8\"],[0.3333333333333333,\"#9c179e\"],[0.4444444444444444,\"#bd3786\"],[0.5555555555555556,\"#d8576b\"],[0.6666666666666666,\"#ed7953\"],[0.7777777777777778,\"#fb9f3a\"],[0.8888888888888888,\"#fdca26\"],[1.0,\"#f0f921\"]]}],\"choropleth\":[{\"type\":\"choropleth\",\"colorbar\":{\"outlinewidth\":0,\"ticks\":\"\"}}],\"histogram2d\":[{\"type\":\"histogram2d\",\"colorbar\":{\"outlinewidth\":0,\"ticks\":\"\"},\"colorscale\":[[0.0,\"#0d0887\"],[0.1111111111111111,\"#46039f\"],[0.2222222222222222,\"#7201a8\"],[0.3333333333333333,\"#9c179e\"],[0.4444444444444444,\"#bd3786\"],[0.5555555555555556,\"#d8576b\"],[0.6666666666666666,\"#ed7953\"],[0.7777777777777778,\"#fb9f3a\"],[0.8888888888888888,\"#fdca26\"],[1.0,\"#f0f921\"]]}],\"heatmap\":[{\"type\":\"heatmap\",\"colorbar\":{\"outlinewidth\":0,\"ticks\":\"\"},\"colorscale\":[[0.0,\"#0d0887\"],[0.1111111111111111,\"#46039f\"],[0.2222222222222222,\"#7201a8\"],[0.3333333333333333,\"#9c179e\"],[0.4444444444444444,\"#bd3786\"],[0.5555555555555556,\"#d8576b\"],[0.6666666666666666,\"#ed7953\"],[0.7777777777777778,\"#fb9f3a\"],[0.8888888888888888,\"#fdca26\"],[1.0,\"#f0f921\"]]}],\"heatmapgl\":[{\"type\":\"heatmapgl\",\"colorbar\":{\"outlinewidth\":0,\"ticks\":\"\"},\"colorscale\":[[0.0,\"#0d0887\"],[0.1111111111111111,\"#46039f\"],[0.2222222222222222,\"#7201a8\"],[0.3333333333333333,\"#9c179e\"],[0.4444444444444444,\"#bd3786\"],[0.5555555555555556,\"#d8576b\"],[0.6666666666666666,\"#ed7953\"],[0.7777777777777778,\"#fb9f3a\"],[0.8888888888888888,\"#fdca26\"],[1.0,\"#f0f921\"]]}],\"contourcarpet\":[{\"type\":\"contourcarpet\",\"colorbar\":{\"outlinewidth\":0,\"ticks\":\"\"}}],\"contour\":[{\"type\":\"contour\",\"colorbar\":{\"outlinewidth\":0,\"ticks\":\"\"},\"colorscale\":[[0.0,\"#0d0887\"],[0.1111111111111111,\"#46039f\"],[0.2222222222222222,\"#7201a8\"],[0.3333333333333333,\"#9c179e\"],[0.4444444444444444,\"#bd3786\"],[0.5555555555555556,\"#d8576b\"],[0.6666666666666666,\"#ed7953\"],[0.7777777777777778,\"#fb9f3a\"],[0.8888888888888888,\"#fdca26\"],[1.0,\"#f0f921\"]]}],\"surface\":[{\"type\":\"surface\",\"colorbar\":{\"outlinewidth\":0,\"ticks\":\"\"},\"colorscale\":[[0.0,\"#0d0887\"],[0.1111111111111111,\"#46039f\"],[0.2222222222222222,\"#7201a8\"],[0.3333333333333333,\"#9c179e\"],[0.4444444444444444,\"#bd3786\"],[0.5555555555555556,\"#d8576b\"],[0.6666666666666666,\"#ed7953\"],[0.7777777777777778,\"#fb9f3a\"],[0.8888888888888888,\"#fdca26\"],[1.0,\"#f0f921\"]]}],\"mesh3d\":[{\"type\":\"mesh3d\",\"colorbar\":{\"outlinewidth\":0,\"ticks\":\"\"}}],\"scatter\":[{\"fillpattern\":{\"fillmode\":\"overlay\",\"size\":10,\"solidity\":0.2},\"type\":\"scatter\"}],\"parcoords\":[{\"type\":\"parcoords\",\"line\":{\"colorbar\":{\"outlinewidth\":0,\"ticks\":\"\"}}}],\"scatterpolargl\":[{\"type\":\"scatterpolargl\",\"marker\":{\"colorbar\":{\"outlinewidth\":0,\"ticks\":\"\"}}}],\"bar\":[{\"error_x\":{\"color\":\"#2a3f5f\"},\"error_y\":{\"color\":\"#2a3f5f\"},\"marker\":{\"line\":{\"color\":\"#E5ECF6\",\"width\":0.5},\"pattern\":{\"fillmode\":\"overlay\",\"size\":10,\"solidity\":0.2}},\"type\":\"bar\"}],\"scattergeo\":[{\"type\":\"scattergeo\",\"marker\":{\"colorbar\":{\"outlinewidth\":0,\"ticks\":\"\"}}}],\"scatterpolar\":[{\"type\":\"scatterpolar\",\"marker\":{\"colorbar\":{\"outlinewidth\":0,\"ticks\":\"\"}}}],\"histogram\":[{\"marker\":{\"pattern\":{\"fillmode\":\"overlay\",\"size\":10,\"solidity\":0.2}},\"type\":\"histogram\"}],\"scattergl\":[{\"type\":\"scattergl\",\"marker\":{\"colorbar\":{\"outlinewidth\":0,\"ticks\":\"\"}}}],\"scatter3d\":[{\"type\":\"scatter3d\",\"line\":{\"colorbar\":{\"outlinewidth\":0,\"ticks\":\"\"}},\"marker\":{\"colorbar\":{\"outlinewidth\":0,\"ticks\":\"\"}}}],\"scattermapbox\":[{\"type\":\"scattermapbox\",\"marker\":{\"colorbar\":{\"outlinewidth\":0,\"ticks\":\"\"}}}],\"scatterternary\":[{\"type\":\"scatterternary\",\"marker\":{\"colorbar\":{\"outlinewidth\":0,\"ticks\":\"\"}}}],\"scattercarpet\":[{\"type\":\"scattercarpet\",\"marker\":{\"colorbar\":{\"outlinewidth\":0,\"ticks\":\"\"}}}],\"carpet\":[{\"aaxis\":{\"endlinecolor\":\"#2a3f5f\",\"gridcolor\":\"white\",\"linecolor\":\"white\",\"minorgridcolor\":\"white\",\"startlinecolor\":\"#2a3f5f\"},\"baxis\":{\"endlinecolor\":\"#2a3f5f\",\"gridcolor\":\"white\",\"linecolor\":\"white\",\"minorgridcolor\":\"white\",\"startlinecolor\":\"#2a3f5f\"},\"type\":\"carpet\"}],\"table\":[{\"cells\":{\"fill\":{\"color\":\"#EBF0F8\"},\"line\":{\"color\":\"white\"}},\"header\":{\"fill\":{\"color\":\"#C8D4E3\"},\"line\":{\"color\":\"white\"}},\"type\":\"table\"}],\"barpolar\":[{\"marker\":{\"line\":{\"color\":\"#E5ECF6\",\"width\":0.5},\"pattern\":{\"fillmode\":\"overlay\",\"size\":10,\"solidity\":0.2}},\"type\":\"barpolar\"}],\"pie\":[{\"automargin\":true,\"type\":\"pie\"}]},\"layout\":{\"autotypenumbers\":\"strict\",\"colorway\":[\"#636efa\",\"#EF553B\",\"#00cc96\",\"#ab63fa\",\"#FFA15A\",\"#19d3f3\",\"#FF6692\",\"#B6E880\",\"#FF97FF\",\"#FECB52\"],\"font\":{\"color\":\"#2a3f5f\"},\"hovermode\":\"closest\",\"hoverlabel\":{\"align\":\"left\"},\"paper_bgcolor\":\"white\",\"plot_bgcolor\":\"#E5ECF6\",\"polar\":{\"bgcolor\":\"#E5ECF6\",\"angularaxis\":{\"gridcolor\":\"white\",\"linecolor\":\"white\",\"ticks\":\"\"},\"radialaxis\":{\"gridcolor\":\"white\",\"linecolor\":\"white\",\"ticks\":\"\"}},\"ternary\":{\"bgcolor\":\"#E5ECF6\",\"aaxis\":{\"gridcolor\":\"white\",\"linecolor\":\"white\",\"ticks\":\"\"},\"baxis\":{\"gridcolor\":\"white\",\"linecolor\":\"white\",\"ticks\":\"\"},\"caxis\":{\"gridcolor\":\"white\",\"linecolor\":\"white\",\"ticks\":\"\"}},\"coloraxis\":{\"colorbar\":{\"outlinewidth\":0,\"ticks\":\"\"}},\"colorscale\":{\"sequential\":[[0.0,\"#0d0887\"],[0.1111111111111111,\"#46039f\"],[0.2222222222222222,\"#7201a8\"],[0.3333333333333333,\"#9c179e\"],[0.4444444444444444,\"#bd3786\"],[0.5555555555555556,\"#d8576b\"],[0.6666666666666666,\"#ed7953\"],[0.7777777777777778,\"#fb9f3a\"],[0.8888888888888888,\"#fdca26\"],[1.0,\"#f0f921\"]],\"sequentialminus\":[[0.0,\"#0d0887\"],[0.1111111111111111,\"#46039f\"],[0.2222222222222222,\"#7201a8\"],[0.3333333333333333,\"#9c179e\"],[0.4444444444444444,\"#bd3786\"],[0.5555555555555556,\"#d8576b\"],[0.6666666666666666,\"#ed7953\"],[0.7777777777777778,\"#fb9f3a\"],[0.8888888888888888,\"#fdca26\"],[1.0,\"#f0f921\"]],\"diverging\":[[0,\"#8e0152\"],[0.1,\"#c51b7d\"],[0.2,\"#de77ae\"],[0.3,\"#f1b6da\"],[0.4,\"#fde0ef\"],[0.5,\"#f7f7f7\"],[0.6,\"#e6f5d0\"],[0.7,\"#b8e186\"],[0.8,\"#7fbc41\"],[0.9,\"#4d9221\"],[1,\"#276419\"]]},\"xaxis\":{\"gridcolor\":\"white\",\"linecolor\":\"white\",\"ticks\":\"\",\"title\":{\"standoff\":15},\"zerolinecolor\":\"white\",\"automargin\":true,\"zerolinewidth\":2},\"yaxis\":{\"gridcolor\":\"white\",\"linecolor\":\"white\",\"ticks\":\"\",\"title\":{\"standoff\":15},\"zerolinecolor\":\"white\",\"automargin\":true,\"zerolinewidth\":2},\"scene\":{\"xaxis\":{\"backgroundcolor\":\"#E5ECF6\",\"gridcolor\":\"white\",\"linecolor\":\"white\",\"showbackground\":true,\"ticks\":\"\",\"zerolinecolor\":\"white\",\"gridwidth\":2},\"yaxis\":{\"backgroundcolor\":\"#E5ECF6\",\"gridcolor\":\"white\",\"linecolor\":\"white\",\"showbackground\":true,\"ticks\":\"\",\"zerolinecolor\":\"white\",\"gridwidth\":2},\"zaxis\":{\"backgroundcolor\":\"#E5ECF6\",\"gridcolor\":\"white\",\"linecolor\":\"white\",\"showbackground\":true,\"ticks\":\"\",\"zerolinecolor\":\"white\",\"gridwidth\":2}},\"shapedefaults\":{\"line\":{\"color\":\"#2a3f5f\"}},\"annotationdefaults\":{\"arrowcolor\":\"#2a3f5f\",\"arrowhead\":0,\"arrowwidth\":1},\"geo\":{\"bgcolor\":\"white\",\"landcolor\":\"#E5ECF6\",\"subunitcolor\":\"white\",\"showland\":true,\"showlakes\":true,\"lakecolor\":\"white\"},\"title\":{\"x\":0.05},\"mapbox\":{\"style\":\"light\"}}},\"title\":{\"text\":\"Sales Volume of Sprint Limited Edition Bikes\"},\"xaxis\":{\"title\":{\"text\":\"Date\"}},\"yaxis\":{\"title\":{\"text\":\"Number of Bikes Sold\"}}},                        {\"responsive\": true}                    ).then(function(){\n",
       "                            \n",
       "var gd = document.getElementById('8a3fa8f8-c171-4bfd-adbc-1709118ed2d4');\n",
       "var x = new MutationObserver(function (mutations, observer) {{\n",
       "        var display = window.getComputedStyle(gd).display;\n",
       "        if (!display || display === 'none') {{\n",
       "            console.log([gd, 'removed!']);\n",
       "            Plotly.purge(gd);\n",
       "            observer.disconnect();\n",
       "        }}\n",
       "}});\n",
       "\n",
       "// Listen for the removal of the full notebook cells\n",
       "var notebookContainer = gd.closest('#notebook-container');\n",
       "if (notebookContainer) {{\n",
       "    x.observe(notebookContainer, {childList: true});\n",
       "}}\n",
       "\n",
       "// Listen for the clearing of the current output cell\n",
       "var outputEl = gd.closest('.output');\n",
       "if (outputEl) {{\n",
       "    x.observe(outputEl, {childList: true});\n",
       "}}\n",
       "\n",
       "                        })                };                });            </script>        </div>"
      ]
     },
     "metadata": {},
     "output_type": "display_data"
    },
    {
     "name": "stdout",
     "output_type": "stream",
     "text": [
      "Sales Volume of first 21 days for Sprint LE Bikes:\n",
      "    sales_transaction_date  Sales\n",
      "0              2017-02-15      6\n",
      "1              2017-02-16      2\n",
      "2              2017-02-17      1\n",
      "3              2017-02-18      4\n",
      "4              2017-02-19      5\n",
      "5              2017-02-20      6\n",
      "6              2017-02-21      5\n",
      "7              2017-02-22      4\n",
      "8              2017-02-23      6\n",
      "9              2017-02-24      2\n",
      "10             2017-02-25      2\n",
      "11             2017-02-26      2\n",
      "12             2017-02-27      4\n",
      "13             2017-02-28      4\n",
      "14             2017-03-01      5\n",
      "15             2017-03-02      1\n",
      "16             2017-03-03      3\n",
      "17             2017-03-04      8\n",
      "18             2017-03-05      4\n",
      "19             2017-03-06      7\n",
      "20             2017-03-07      7\n",
      "21             2017-03-08      8\n"
     ]
    }
   ],
   "source": [
    "#Plotting a growth chart for Sprint LE(for all the dates)\n",
    "sle21d=ndfsle[:22] #Dataframe to store sales data for first 21 days\n",
    "salesofsprintle=go.Figure([go.Line(x=sle21d['sales_transaction_date'],y=sle21d['Sales'])])\n",
    "salesofsprintle.update_layout(title='Sales Volume of Sprint Limited Edition Bikes',xaxis_title='Date',yaxis_title='Number of Bikes Sold')\n",
    "salesofsprintle.show()\n",
    "print(\"Sales Volume of first 21 days for Sprint LE Bikes:\\n\",sle21d)"
   ]
  },
  {
   "cell_type": "markdown",
   "id": "8996192d",
   "metadata": {
    "papermill": {
     "duration": 0.015408,
     "end_time": "2023-06-28T08:47:23.267021",
     "exception": false,
     "start_time": "2023-06-28T08:47:23.251613",
     "status": "completed"
    },
    "tags": []
   },
   "source": [
    "# Analysing The Growth Rate over a 7-Day Rolling Period"
   ]
  },
  {
   "cell_type": "code",
   "execution_count": 11,
   "id": "835f0ded",
   "metadata": {
    "execution": {
     "iopub.execute_input": "2023-06-28T08:47:23.300531Z",
     "iopub.status.busy": "2023-06-28T08:47:23.300091Z",
     "iopub.status.idle": "2023-06-28T08:47:23.317602Z",
     "shell.execute_reply": "2023-06-28T08:47:23.316283Z"
    },
    "id": "2h-mAgexMv-w",
    "jupyter": {
     "source_hidden": true
    },
    "outputId": "2c28769b-394c-4609-a112-58696d9aed56",
    "papermill": {
     "duration": 0.038253,
     "end_time": "2023-06-28T08:47:23.320954",
     "exception": false,
     "start_time": "2023-06-28T08:47:23.282701",
     "status": "completed"
    },
    "tags": []
   },
   "outputs": [
    {
     "name": "stdout",
     "output_type": "stream",
     "text": [
      "    Sales_x  Sales_y  Day No.\n",
      "0         9        6        1\n",
      "1         6        2        2\n",
      "2        10        1        3\n",
      "3        10        4        4\n",
      "4         5        5        5\n",
      "5        10        6        6\n",
      "6        14        5        7\n",
      "7         9        4        8\n",
      "8        11        6        9\n",
      "9        12        2       10\n",
      "10       10        2       11\n",
      "11        6        2       12\n",
      "12        2        4       13\n",
      "13        5        4       14\n",
      "14        6        5       15\n",
      "15        9        1       16\n",
      "16        2        3       17\n",
      "17        4        8       18\n",
      "18        7        4       19\n",
      "19        5        7       20\n",
      "20        5        7       21\n",
      "21        3        8       22\n"
     ]
    }
   ],
   "source": [
    "#Joining the Sales numbers from Sprint Limited Edition to the Dataframe of Sprint\n",
    "df = s21d.merge(sle21d[['Sales']], left_index=True,right_index=True,how='left')\n",
    "\n",
    "df=df.drop('sales_transaction_date',axis=1)\n",
    "df=df.loc[:, ~df.columns.duplicated()]\n",
    "#Adding the Day number to this dataframe\n",
    "df['Day No.']=df.index +1\n",
    "print(df) #here, Sales_x means Sprint and Sales_y column means Sprint LE Bikes\n"
   ]
  },
  {
   "cell_type": "markdown",
   "id": "2017f61c",
   "metadata": {
    "id": "p7WF8O5kEiZb",
    "papermill": {
     "duration": 0.015596,
     "end_time": "2023-06-28T08:47:23.352646",
     "exception": false,
     "start_time": "2023-06-28T08:47:23.337050",
     "status": "completed"
    },
    "tags": []
   },
   "source": [
    "# **MX Deliverables D1:** Quantifying the sales drop "
   ]
  },
  {
   "cell_type": "markdown",
   "id": "1e745076",
   "metadata": {
    "papermill": {
     "duration": 0.015791,
     "end_time": "2023-06-28T08:47:23.384383",
     "exception": false,
     "start_time": "2023-06-28T08:47:23.368592",
     "status": "completed"
    },
    "tags": []
   },
   "source": [
    "> **1)FOR SPRINT BIKES**"
   ]
  },
  {
   "cell_type": "code",
   "execution_count": 12,
   "id": "7011baeb",
   "metadata": {
    "execution": {
     "iopub.execute_input": "2023-06-28T08:47:23.418690Z",
     "iopub.status.busy": "2023-06-28T08:47:23.418234Z",
     "iopub.status.idle": "2023-06-28T08:47:23.441702Z",
     "shell.execute_reply": "2023-06-28T08:47:23.439574Z"
    },
    "id": "hKz4jKcx0h77",
    "jupyter": {
     "source_hidden": true
    },
    "outputId": "2482c759-b7d9-4984-bd58-cf51afd6a47c",
    "papermill": {
     "duration": 0.044512,
     "end_time": "2023-06-28T08:47:23.444786",
     "exception": false,
     "start_time": "2023-06-28T08:47:23.400274",
     "status": "completed"
    },
    "tags": []
   },
   "outputs": [
    {
     "name": "stdout",
     "output_type": "stream",
     "text": [
      "         Sprint Sale/Day  current_period_sales  previous_period_sales  \\\n",
      "Day No.                                                                 \n",
      "1                      9                   NaN                    NaN   \n",
      "2                      6                   NaN                    NaN   \n",
      "3                     10                   NaN                    NaN   \n",
      "4                     10                   NaN                    NaN   \n",
      "5                      5                   NaN                    NaN   \n",
      "6                     10                   NaN                    NaN   \n",
      "7                     14                  64.0                    NaN   \n",
      "8                      9                  64.0                   64.0   \n",
      "9                     11                  69.0                   64.0   \n",
      "10                    12                  71.0                   69.0   \n",
      "11                    10                  71.0                   71.0   \n",
      "12                     6                  72.0                   71.0   \n",
      "13                     2                  64.0                   72.0   \n",
      "14                     5                  55.0                   64.0   \n",
      "15                     6                  52.0                   55.0   \n",
      "16                     9                  50.0                   52.0   \n",
      "17                     2                  40.0                   50.0   \n",
      "18                     4                  34.0                   40.0   \n",
      "19                     7                  35.0                   34.0   \n",
      "20                     5                  38.0                   35.0   \n",
      "21                     5                  38.0                   38.0   \n",
      "22                     3                  35.0                   38.0   \n",
      "\n",
      "         Percentage Growth of Sprint  \n",
      "Day No.                               \n",
      "1                                NaN  \n",
      "2                                NaN  \n",
      "3                                NaN  \n",
      "4                                NaN  \n",
      "5                                NaN  \n",
      "6                                NaN  \n",
      "7                                NaN  \n",
      "8                           0.000000  \n",
      "9                           7.812500  \n",
      "10                          2.898551  \n",
      "11                          0.000000  \n",
      "12                          1.408451  \n",
      "13                        -11.111111  \n",
      "14                        -14.062500  \n",
      "15                         -5.454545  \n",
      "16                         -3.846154  \n",
      "17                        -20.000000  \n",
      "18                        -15.000000  \n",
      "19                          2.941176  \n",
      "20                          8.571429  \n",
      "21                          0.000000  \n",
      "22                         -7.894737  \n"
     ]
    }
   ],
   "source": [
    "dfc=df #dfc is a duplicate dataframe of df for growth summary of Sprint Bikes\n",
    "dfc=dfc.drop('Sales_y',axis=1)\n",
    "dfc.rename(columns={'Sales_x': 'Sprint Sale/Day'}, inplace=True)\n",
    "dfc['current_period_sales'] = dfc['Sprint Sale/Day'].rolling(window=7, min_periods=7).sum() #min_periods set to rolling value itself to obtain values only according to 7-day rolling time.\n",
    "dfc['previous_period_sales'] = dfc['Sprint Sale/Day'].shift(1).rolling(window=7, min_periods=7).sum()  #min_periods set to rolling value itself to obtain values only according to 7-day rolling time.\n",
    "dfc['Percentage Growth of Sprint']= (((dfc['current_period_sales']-dfc['previous_period_sales'])/dfc['previous_period_sales'])*100)\n",
    "dfc.set_index('Day No.',inplace=True)\n",
    "print(dfc)"
   ]
  },
  {
   "cell_type": "markdown",
   "id": "73aaf0a3",
   "metadata": {
    "papermill": {
     "duration": 0.016186,
     "end_time": "2023-06-28T08:47:23.478800",
     "exception": false,
     "start_time": "2023-06-28T08:47:23.462614",
     "status": "completed"
    },
    "tags": []
   },
   "source": [
    "> **2) FOR SPRINT LIMITED EDITION BIKES**"
   ]
  },
  {
   "cell_type": "code",
   "execution_count": 13,
   "id": "d5e4f92f",
   "metadata": {
    "execution": {
     "iopub.execute_input": "2023-06-28T08:47:23.513800Z",
     "iopub.status.busy": "2023-06-28T08:47:23.513344Z",
     "iopub.status.idle": "2023-06-28T08:47:23.534762Z",
     "shell.execute_reply": "2023-06-28T08:47:23.533356Z"
    },
    "id": "Xch--zje-YI0",
    "jupyter": {
     "source_hidden": true
    },
    "outputId": "a9d82bc4-1dd4-4458-cf2a-2c0ac80c7b25",
    "papermill": {
     "duration": 0.042073,
     "end_time": "2023-06-28T08:47:23.537663",
     "exception": false,
     "start_time": "2023-06-28T08:47:23.495590",
     "status": "completed"
    },
    "tags": []
   },
   "outputs": [
    {
     "name": "stdout",
     "output_type": "stream",
     "text": [
      "         Sprint LE Sale/Day  current_period_sales  previous_period_sales  \\\n",
      "Day No.                                                                    \n",
      "1                         6                   NaN                    NaN   \n",
      "2                         2                   NaN                    NaN   \n",
      "3                         1                   NaN                    NaN   \n",
      "4                         4                   NaN                    NaN   \n",
      "5                         5                   NaN                    NaN   \n",
      "6                         6                   NaN                    NaN   \n",
      "7                         5                  29.0                    NaN   \n",
      "8                         4                  27.0                   29.0   \n",
      "9                         6                  31.0                   27.0   \n",
      "10                        2                  32.0                   31.0   \n",
      "11                        2                  30.0                   32.0   \n",
      "12                        2                  27.0                   30.0   \n",
      "13                        4                  25.0                   27.0   \n",
      "14                        4                  24.0                   25.0   \n",
      "15                        5                  25.0                   24.0   \n",
      "16                        1                  20.0                   25.0   \n",
      "17                        3                  21.0                   20.0   \n",
      "18                        8                  27.0                   21.0   \n",
      "19                        4                  29.0                   27.0   \n",
      "20                        7                  32.0                   29.0   \n",
      "21                        7                  35.0                   32.0   \n",
      "22                        8                  38.0                   35.0   \n",
      "\n",
      "         Percentage Growth of Sprint LE  \n",
      "Day No.                                  \n",
      "1                                   NaN  \n",
      "2                                   NaN  \n",
      "3                                   NaN  \n",
      "4                                   NaN  \n",
      "5                                   NaN  \n",
      "6                                   NaN  \n",
      "7                                   NaN  \n",
      "8                             -6.896552  \n",
      "9                             14.814815  \n",
      "10                             3.225806  \n",
      "11                            -6.250000  \n",
      "12                           -10.000000  \n",
      "13                            -7.407407  \n",
      "14                            -4.000000  \n",
      "15                             4.166667  \n",
      "16                           -20.000000  \n",
      "17                             5.000000  \n",
      "18                            28.571429  \n",
      "19                             7.407407  \n",
      "20                            10.344828  \n",
      "21                             9.375000  \n",
      "22                             8.571429  \n"
     ]
    }
   ],
   "source": [
    "dfp=df #dfp is another duplicate dataframe to obtain the data from dataframe df\n",
    "dfp=dfp.drop('Sales_x',axis=1)\n",
    "dfp.rename(columns={'Sales_y':'Sprint LE Sale/Day'},inplace=True)\n",
    "dfp['current_period_sales'] = dfp['Sprint LE Sale/Day'].rolling(window=7, min_periods=7).sum()  #min_periods set to rolling value itself to obtain values only according to 7-day rolling time.\n",
    "dfp['previous_period_sales'] = dfp['Sprint LE Sale/Day'].shift(1).rolling(window=7, min_periods=7).sum()  #min_periods set to rolling value itself to obtain values only according to 7-day rolling time.\n",
    "dfp['Percentage Growth of Sprint LE']= (((dfp['current_period_sales']-dfp['previous_period_sales'])/dfp['previous_period_sales'])*100)\n",
    "dfp.set_index('Day No.',inplace=True)\n",
    "print(dfp)"
   ]
  },
  {
   "cell_type": "markdown",
   "id": "9b44fcfb",
   "metadata": {
    "id": "XDcamRPLA-uv",
    "papermill": {
     "duration": 0.015719,
     "end_time": "2023-06-28T08:47:23.569779",
     "exception": false,
     "start_time": "2023-06-28T08:47:23.554060",
     "status": "completed"
    },
    "tags": []
   },
   "source": [
    "# **MX Deliverables D2**\n",
    "\n",
    "**TABLE 2**: Growth comparison summary for scooter variants in its initial 3 week of launch (as given in Table 2 of the MX)\n",
    "\n"
   ]
  },
  {
   "cell_type": "code",
   "execution_count": 14,
   "id": "fbdf630b",
   "metadata": {
    "execution": {
     "iopub.execute_input": "2023-06-28T08:47:23.603848Z",
     "iopub.status.busy": "2023-06-28T08:47:23.603428Z",
     "iopub.status.idle": "2023-06-28T08:47:24.235265Z",
     "shell.execute_reply": "2023-06-28T08:47:24.233593Z"
    },
    "id": "A0gFePfoBIw4",
    "jupyter": {
     "source_hidden": true
    },
    "outputId": "f2dce382-cabf-43b5-8939-6a3ec9ffff69",
    "papermill": {
     "duration": 0.652844,
     "end_time": "2023-06-28T08:47:24.238651",
     "exception": false,
     "start_time": "2023-06-28T08:47:23.585807",
     "status": "completed"
    },
    "tags": []
   },
   "outputs": [
    {
     "name": "stdout",
     "output_type": "stream",
     "text": [
      "Growth Comparison Summary for Sprint & Sprint LE:\n",
      "          Percentage Growth of Sprint  Percentage Growth of Sprint LE\n",
      "Day No.                                                             \n",
      "1                                NaN                             NaN\n",
      "2                                NaN                             NaN\n",
      "3                                NaN                             NaN\n",
      "4                                NaN                             NaN\n",
      "5                                NaN                             NaN\n",
      "6                                NaN                             NaN\n",
      "7                                NaN                             NaN\n",
      "8                           0.000000                       -6.896552\n",
      "9                           7.812500                       14.814815\n",
      "10                          2.898551                        3.225806\n",
      "11                          0.000000                       -6.250000\n",
      "12                          1.408451                      -10.000000\n",
      "13                        -11.111111                       -7.407407\n",
      "14                        -14.062500                       -4.000000\n",
      "15                         -5.454545                        4.166667\n",
      "16                         -3.846154                      -20.000000\n",
      "17                        -20.000000                        5.000000\n",
      "18                        -15.000000                       28.571429\n",
      "19                          2.941176                        7.407407\n",
      "20                          8.571429                       10.344828\n",
      "21                          0.000000                        9.375000\n",
      "22                         -7.894737                        8.571429\n"
     ]
    }
   ],
   "source": [
    "growth_comparison= dfc.merge(dfp[['Percentage Growth of Sprint LE']], left_index=True,right_index=True,how='left')\n",
    "growth_comparison=growth_comparison.drop('Sprint Sale/Day',axis=1)\n",
    "growth_comparison=growth_comparison.drop('current_period_sales',axis=1)\n",
    "growth_comparison=growth_comparison.drop('previous_period_sales',axis=1)\n",
    "print(\"Growth Comparison Summary for Sprint & Sprint LE:\\n\",growth_comparison)\n",
    "growth_comparison.to_excel('Growth Comparison Summary.xlsx',index=True)"
   ]
  },
  {
   "cell_type": "markdown",
   "id": "c68d47e0",
   "metadata": {
    "id": "fp_xuMLhq9p_",
    "papermill": {
     "duration": 0.015942,
     "end_time": "2023-06-28T08:47:24.270865",
     "exception": false,
     "start_time": "2023-06-28T08:47:24.254923",
     "status": "completed"
    },
    "tags": []
   },
   "source": [
    "> Creating a bar chart and a plot to depict the 7 days cumulative sales growth for Sprint and Sprint LE Bikes as obtained from the table above.\n",
    "\n",
    "The same charts have been made on Tableau for data visualization as well. Link:https://public.tableau.com/views/ZoomElectricGrowthComp_Summary/Sheet1?:language=en-US&:display_count=n&:origin=viz_share_link"
   ]
  },
  {
   "cell_type": "code",
   "execution_count": 15,
   "id": "cd0556c2",
   "metadata": {
    "execution": {
     "iopub.execute_input": "2023-06-28T08:47:24.306629Z",
     "iopub.status.busy": "2023-06-28T08:47:24.305519Z",
     "iopub.status.idle": "2023-06-28T08:47:24.782473Z",
     "shell.execute_reply": "2023-06-28T08:47:24.781223Z"
    },
    "id": "GCCujj4gCywK",
    "jupyter": {
     "source_hidden": true
    },
    "outputId": "52479c77-482e-44c1-b28f-2dba59e05808",
    "papermill": {
     "duration": 0.497772,
     "end_time": "2023-06-28T08:47:24.785223",
     "exception": false,
     "start_time": "2023-06-28T08:47:24.287451",
     "status": "completed"
    },
    "tags": []
   },
   "outputs": [
    {
     "data": {
      "text/plain": [
       "<function matplotlib.pyplot.show(close=None, block=None)>"
      ]
     },
     "execution_count": 15,
     "metadata": {},
     "output_type": "execute_result"
    },
    {
     "data": {
      "image/png": "[encoded data removed]",
      "text/plain": [
       "<Figure size 640x480 with 1 Axes>"
      ]
     },
     "metadata": {},
     "output_type": "display_data"
    }
   ],
   "source": [
    "plt.bar(growth_comparison.index,growth_comparison['Percentage Growth of Sprint'],label='Sprint',color='red')\n",
    "plt.bar(growth_comparison.index,growth_comparison['Percentage Growth of Sprint LE'],label='Sprint LE',color='green')\n",
    "plt.xlabel('Number of Days')\n",
    "plt.ylabel('Growth Percentage')\n",
    "plt.legend()\n",
    "plt.title('COMPARISON OF GROWTH % OF SPRINT & SPRINT LE')\n",
    "plt.show\n"
   ]
  },
  {
   "cell_type": "code",
   "execution_count": 16,
   "id": "7b6980d6",
   "metadata": {
    "execution": {
     "iopub.execute_input": "2023-06-28T08:47:24.822742Z",
     "iopub.status.busy": "2023-06-28T08:47:24.822262Z",
     "iopub.status.idle": "2023-06-28T08:47:25.170629Z",
     "shell.execute_reply": "2023-06-28T08:47:25.169305Z"
    },
    "id": "OTi-rO-Ar12a",
    "jupyter": {
     "source_hidden": true
    },
    "outputId": "a451f664-4d9a-4d78-d5da-4d1fd5aa5907",
    "papermill": {
     "duration": 0.371707,
     "end_time": "2023-06-28T08:47:25.174439",
     "exception": false,
     "start_time": "2023-06-28T08:47:24.802732",
     "status": "completed"
    },
    "tags": []
   },
   "outputs": [
    {
     "data": {
      "text/plain": [
       "<function matplotlib.pyplot.show(close=None, block=None)>"
      ]
     },
     "execution_count": 16,
     "metadata": {},
     "output_type": "execute_result"
    },
    {
     "data": {
      "image/png": "[encoded data removed]",
      "text/plain": [
       "<Figure size 640x480 with 1 Axes>"
      ]
     },
     "metadata": {},
     "output_type": "display_data"
    }
   ],
   "source": [
    "plt.plot(growth_comparison.index,growth_comparison['Percentage Growth of Sprint'],label='Sprint',color='red')\n",
    "plt.plot(growth_comparison.index,growth_comparison['Percentage Growth of Sprint LE'],label='Sprint LE',color='green')\n",
    "plt.xlabel('Number of Days')\n",
    "plt.ylabel('Growth Percentage')\n",
    "plt.legend()\n",
    "plt.title('COMPARISON OF GROWTH % OF SPRINT & SPRINT LE')\n",
    "plt.show"
   ]
  },
  {
   "cell_type": "markdown",
   "id": "af3db778",
   "metadata": {
    "id": "DnxDxpfctXxf",
    "papermill": {
     "duration": 0.018497,
     "end_time": "2023-06-28T08:47:25.211933",
     "exception": false,
     "start_time": "2023-06-28T08:47:25.193436",
     "status": "completed"
    },
    "tags": []
   },
   "source": [
    "# **Inference from Date of Launch**\n",
    "The graph obtained above shows that the launch date effectively HAD an impact on sales of Sprint Scooters. Sprint LE Scooters which were launched on a different launch date performed better than the normal Sprint Scooters."
   ]
  },
  {
   "cell_type": "markdown",
   "id": "1a8d8445",
   "metadata": {
    "id": "kSK7K_Ywt75Y",
    "papermill": {
     "duration": 0.018685,
     "end_time": "2023-06-28T08:47:25.249325",
     "exception": false,
     "start_time": "2023-06-28T08:47:25.230640",
     "status": "completed"
    },
    "tags": []
   },
   "source": [
    "# **Analysing the Emails**\n",
    "*As a second step, we are investigating if the email campaign for Sprint Scooters have had impact results to draw customer attention by figuring out the Click-Through Rate and the Email Opening Rate and comparing them with benchmark values.*"
   ]
  },
  {
   "cell_type": "code",
   "execution_count": 17,
   "id": "947e1e74",
   "metadata": {
    "execution": {
     "iopub.execute_input": "2023-06-28T08:47:25.289574Z",
     "iopub.status.busy": "2023-06-28T08:47:25.289108Z",
     "iopub.status.idle": "2023-06-28T08:47:25.669639Z",
     "shell.execute_reply": "2023-06-28T08:47:25.668359Z"
    },
    "id": "3Vr8PSQ4v5q7",
    "jupyter": {
     "source_hidden": true
    },
    "outputId": "2c8b1d3d-cc78-4783-aa0e-df73493f94cd",
    "papermill": {
     "duration": 0.404122,
     "end_time": "2023-06-28T08:47:25.672492",
     "exception": false,
     "start_time": "2023-06-28T08:47:25.268370",
     "status": "completed"
    },
    "tags": []
   },
   "outputs": [
    {
     "name": "stdout",
     "output_type": "stream",
     "text": [
      "        email_id  customer_id opened clicked bounced   sent_date  \\\n",
      "0              1           18      f       f       f  2011-01-03   \n",
      "1              2           30      f       f       f  2011-01-03   \n",
      "2              3           41      t       f       f  2011-01-03   \n",
      "3              4           52      f       f       f  2011-01-03   \n",
      "4              5           59      f       f       f  2011-01-03   \n",
      "...          ...          ...    ...     ...     ...         ...   \n",
      "418153    418154        49996      f       f       f  2019-01-07   \n",
      "418154    418155        49997      t       f       f  2019-01-07   \n",
      "418155    418156        49998      f       f       f  2019-01-07   \n",
      "418156    418157        49999      t       f       f  2019-01-07   \n",
      "418157    418158        50000      t       f       f  2019-01-07   \n",
      "\n",
      "             opened_date clicked_date  email_subject_id  \n",
      "0                    NaN          NaN                 6  \n",
      "1                    NaN          NaN                 6  \n",
      "2       04-01-2011 10:41          NaN                 6  \n",
      "3                    NaN          NaN                 6  \n",
      "4                    NaN          NaN                 6  \n",
      "...                  ...          ...               ...  \n",
      "418153               NaN          NaN                 3  \n",
      "418154  08-01-2019 17:30          NaN                 3  \n",
      "418155               NaN          NaN                 3  \n",
      "418156  08-01-2019 13:11          NaN                 3  \n",
      "418157  08-01-2019 11:19          NaN                 3  \n",
      "\n",
      "[418158 rows x 9 columns]\n"
     ]
    }
   ],
   "source": [
    "#Email Data for Sprint Scooters\n",
    "s=e #dataframe s stores emails sent after the launch date i.e. 2016-09-01\n",
    "s['sent_date']=pd.to_datetime(s['sent_date']).dt.date #converting the sent date to only date ignoring timr\n",
    "\n",
    "print(s)"
   ]
  },
  {
   "cell_type": "code",
   "execution_count": 18,
   "id": "234f6882",
   "metadata": {
    "execution": {
     "iopub.execute_input": "2023-06-28T08:47:25.711268Z",
     "iopub.status.busy": "2023-06-28T08:47:25.709977Z",
     "iopub.status.idle": "2023-06-28T08:47:25.944600Z",
     "shell.execute_reply": "2023-06-28T08:47:25.943430Z"
    },
    "id": "VFlR1VQmJyn7",
    "jupyter": {
     "source_hidden": true
    },
    "outputId": "334873dd-888d-416c-fbcf-0a5275f2f4c5",
    "papermill": {
     "duration": 0.256834,
     "end_time": "2023-06-28T08:47:25.947306",
     "exception": false,
     "start_time": "2023-06-28T08:47:25.690472",
     "status": "completed"
    },
    "tags": []
   },
   "outputs": [
    {
     "name": "stdout",
     "output_type": "stream",
     "text": [
      "Emails sent after 2016-09-01:\n",
      "         email_id  customer_id opened clicked bounced   sent_date  \\\n",
      "174736    174737            2      f       f       f  2016-09-21   \n",
      "174737    174738            5      t       f       f  2016-09-21   \n",
      "174738    174739            6      f       f       f  2016-09-21   \n",
      "174739    174740            7      f       f       f  2016-09-21   \n",
      "174740    174741            8      f       f       f  2016-09-21   \n",
      "...          ...          ...    ...     ...     ...         ...   \n",
      "418153    418154        49996      f       f       f  2019-01-07   \n",
      "418154    418155        49997      t       f       f  2019-01-07   \n",
      "418155    418156        49998      f       f       f  2019-01-07   \n",
      "418156    418157        49999      t       f       f  2019-01-07   \n",
      "418157    418158        50000      t       f       f  2019-01-07   \n",
      "\n",
      "             opened_date clicked_date  email_subject_id  \n",
      "174736               NaN          NaN                 7  \n",
      "174737  22-09-2016 10:12          NaN                 7  \n",
      "174738               NaN          NaN                 7  \n",
      "174739               NaN          NaN                 7  \n",
      "174740               NaN          NaN                 7  \n",
      "...                  ...          ...               ...  \n",
      "418153               NaN          NaN                 3  \n",
      "418154  08-01-2019 17:30          NaN                 3  \n",
      "418155               NaN          NaN                 3  \n",
      "418156  08-01-2019 13:11          NaN                 3  \n",
      "418157  08-01-2019 11:19          NaN                 3  \n",
      "\n",
      "[243422 rows x 9 columns]\n"
     ]
    }
   ],
   "source": [
    "specificdate=(pd.to_datetime('2016-09-01').date()) #specificdate is a variable storing the lower-limit value i.e. 2016-09-01\n",
    "s= s[(s['sent_date'] >specificdate) ].copy()\n",
    "\n",
    "print(\"Emails sent after 2016-09-01:\\n\",s)\n"
   ]
  },
  {
   "cell_type": "code",
   "execution_count": 19,
   "id": "2d63f40e",
   "metadata": {
    "execution": {
     "iopub.execute_input": "2023-06-28T08:47:25.985643Z",
     "iopub.status.busy": "2023-06-28T08:47:25.984859Z",
     "iopub.status.idle": "2023-06-28T08:47:26.045382Z",
     "shell.execute_reply": "2023-06-28T08:47:26.044147Z"
    },
    "id": "n0pqcTsuKuJ_",
    "jupyter": {
     "source_hidden": true
    },
    "outputId": "c63e9791-8eb0-461f-e7dc-3f76113680fe",
    "papermill": {
     "duration": 0.082991,
     "end_time": "2023-06-28T08:47:26.048235",
     "exception": false,
     "start_time": "2023-06-28T08:47:25.965244",
     "status": "completed"
    },
    "tags": []
   },
   "outputs": [
    {
     "name": "stdout",
     "output_type": "stream",
     "text": [
      "Emails sent after 2016-09-01 and before 2016-10-31:\n",
      "         email_id  customer_id opened clicked bounced   sent_date  \\\n",
      "174736    174737            2      f       f       f  2016-09-21   \n",
      "174737    174738            5      t       f       f  2016-09-21   \n",
      "174738    174739            6      f       f       f  2016-09-21   \n",
      "174739    174740            7      f       f       f  2016-09-21   \n",
      "174740    174741            8      f       f       f  2016-09-21   \n",
      "...          ...          ...    ...     ...     ...         ...   \n",
      "209798    209799        49995      t       f       f  2016-09-21   \n",
      "209799    209800        49996      f       f       f  2016-09-21   \n",
      "209800    209801        49997      f       f       f  2016-09-21   \n",
      "209801    209802        49998      f       f       f  2016-09-21   \n",
      "209802    209803        50000      f       f       f  2016-09-21   \n",
      "\n",
      "             opened_date clicked_date  email_subject_id  \n",
      "174736               NaN          NaN                 7  \n",
      "174737  22-09-2016 10:12          NaN                 7  \n",
      "174738               NaN          NaN                 7  \n",
      "174739               NaN          NaN                 7  \n",
      "174740               NaN          NaN                 7  \n",
      "...                  ...          ...               ...  \n",
      "209798  22-09-2016 09:17          NaN                 7  \n",
      "209799               NaN          NaN                 7  \n",
      "209800               NaN          NaN                 7  \n",
      "209801               NaN          NaN                 7  \n",
      "209802               NaN          NaN                 7  \n",
      "\n",
      "[35067 rows x 9 columns]\n"
     ]
    }
   ],
   "source": [
    "specificdate1=(pd.to_datetime('2016-10-31').date()) #specificdate1 is storing the upper-limit value i.e. 2016-10-31\n",
    "s= s[(s['sent_date'] <specificdate1) ].copy() \n",
    "print(\"Emails sent after 2016-09-01 and before 2016-10-31:\\n\",s)"
   ]
  },
  {
   "cell_type": "code",
   "execution_count": 20,
   "id": "79bff6ef",
   "metadata": {
    "execution": {
     "iopub.execute_input": "2023-06-28T08:47:26.088655Z",
     "iopub.status.busy": "2023-06-28T08:47:26.088214Z",
     "iopub.status.idle": "2023-06-28T08:47:26.107725Z",
     "shell.execute_reply": "2023-06-28T08:47:26.106531Z"
    },
    "id": "t3qU5m5C0VFe",
    "jupyter": {
     "source_hidden": true
    },
    "outputId": "fac70f79-f33c-4635-a23e-2c633fc1e317",
    "papermill": {
     "duration": 0.044127,
     "end_time": "2023-06-28T08:47:26.110801",
     "exception": false,
     "start_time": "2023-06-28T08:47:26.066674",
     "status": "completed"
    },
    "tags": []
   },
   "outputs": [
    {
     "name": "stdout",
     "output_type": "stream",
     "text": [
      "Mails with regards to Sprint Campign:\n",
      "         email_id  customer_id opened clicked bounced   sent_date  \\\n",
      "174736    174737            2      f       f       f  2016-09-21   \n",
      "174737    174738            5      t       f       f  2016-09-21   \n",
      "174738    174739            6      f       f       f  2016-09-21   \n",
      "174739    174740            7      f       f       f  2016-09-21   \n",
      "174740    174741            8      f       f       f  2016-09-21   \n",
      "...          ...          ...    ...     ...     ...         ...   \n",
      "209798    209799        49995      t       f       f  2016-09-21   \n",
      "209799    209800        49996      f       f       f  2016-09-21   \n",
      "209800    209801        49997      f       f       f  2016-09-21   \n",
      "209801    209802        49998      f       f       f  2016-09-21   \n",
      "209802    209803        50000      f       f       f  2016-09-21   \n",
      "\n",
      "             opened_date clicked_date  email_subject_id  \n",
      "174736               NaN          NaN                 7  \n",
      "174737  22-09-2016 10:12          NaN                 7  \n",
      "174738               NaN          NaN                 7  \n",
      "174739               NaN          NaN                 7  \n",
      "174740               NaN          NaN                 7  \n",
      "...                  ...          ...               ...  \n",
      "209798  22-09-2016 09:17          NaN                 7  \n",
      "209799               NaN          NaN                 7  \n",
      "209800               NaN          NaN                 7  \n",
      "209801               NaN          NaN                 7  \n",
      "209802               NaN          NaN                 7  \n",
      "\n",
      "[35067 rows x 9 columns]\n"
     ]
    }
   ],
   "source": [
    "sprint=s[s['email_subject_id'].isin([7])] #filtering the dataframe to contain only emails sent wrt Sprint Scooters from 2016-09-01 upto 2016-10-31\n",
    "print(\"Mails with regards to Sprint Campign:\\n\",sprint)"
   ]
  },
  {
   "cell_type": "markdown",
   "id": "75d415f4",
   "metadata": {
    "id": "Cpt4C8tEejnI",
    "papermill": {
     "duration": 0.018382,
     "end_time": "2023-06-28T08:47:26.147621",
     "exception": false,
     "start_time": "2023-06-28T08:47:26.129239",
     "status": "completed"
    },
    "tags": []
   },
   "source": [
    "*Finding out the Clickrate for emails sent wrt Sprint Bikes*"
   ]
  },
  {
   "cell_type": "code",
   "execution_count": 21,
   "id": "f1fa083e",
   "metadata": {
    "execution": {
     "iopub.execute_input": "2023-06-28T08:47:26.187100Z",
     "iopub.status.busy": "2023-06-28T08:47:26.185858Z",
     "iopub.status.idle": "2023-06-28T08:47:26.205288Z",
     "shell.execute_reply": "2023-06-28T08:47:26.204058Z"
    },
    "id": "IQZQELrR-BoF",
    "jupyter": {
     "source_hidden": true
    },
    "outputId": "fe84ea05-3565-4292-e2f4-f5da8db3905a",
    "papermill": {
     "duration": 0.042153,
     "end_time": "2023-06-28T08:47:26.207993",
     "exception": false,
     "start_time": "2023-06-28T08:47:26.165840",
     "status": "completed"
    },
    "tags": []
   },
   "outputs": [
    {
     "name": "stdout",
     "output_type": "stream",
     "text": [
      "f    34219\n",
      "t      848\n",
      "Name: clicked, dtype: int64\n",
      "f    34942\n",
      "t      125\n",
      "Name: bounced, dtype: int64\n"
     ]
    }
   ],
   "source": [
    "emails_clickedornot= sprint['clicked'].value_counts()\n",
    "emails_bouncedornot= sprint['bounced'].value_counts()\n",
    "print (emails_clickedornot)\n",
    "print(emails_bouncedornot)"
   ]
  },
  {
   "cell_type": "code",
   "execution_count": 22,
   "id": "e9681c73",
   "metadata": {
    "execution": {
     "iopub.execute_input": "2023-06-28T08:47:26.247626Z",
     "iopub.status.busy": "2023-06-28T08:47:26.246530Z",
     "iopub.status.idle": "2023-06-28T08:47:26.253156Z",
     "shell.execute_reply": "2023-06-28T08:47:26.252020Z"
    },
    "id": "sr7q4QzI_P73",
    "jupyter": {
     "source_hidden": true
    },
    "outputId": "e9548f20-9d9b-49a8-d9b6-d3e7e28a8c47",
    "papermill": {
     "duration": 0.029599,
     "end_time": "2023-06-28T08:47:26.255964",
     "exception": false,
     "start_time": "2023-06-28T08:47:26.226365",
     "status": "completed"
    },
    "tags": []
   },
   "outputs": [
    {
     "name": "stdout",
     "output_type": "stream",
     "text": [
      "2.426878827771736\n"
     ]
    }
   ],
   "source": [
    "clickrate=848/((34219+848)-125)\n",
    "print (clickrate*100)"
   ]
  },
  {
   "cell_type": "markdown",
   "id": "471f1177",
   "metadata": {
    "id": "QajHEcqVesWr",
    "papermill": {
     "duration": 0.020862,
     "end_time": "2023-06-28T08:47:26.296509",
     "exception": false,
     "start_time": "2023-06-28T08:47:26.275647",
     "status": "completed"
    },
    "tags": []
   },
   "source": [
    "Therefore, **CTR (Click Rate) is 2.4268%**"
   ]
  },
  {
   "cell_type": "markdown",
   "id": "3b44657f",
   "metadata": {
    "id": "jeoCuA04e7wv",
    "papermill": {
     "duration": 0.018191,
     "end_time": "2023-06-28T08:47:26.333200",
     "exception": false,
     "start_time": "2023-06-28T08:47:26.315009",
     "status": "completed"
    },
    "tags": []
   },
   "source": [
    "*Finding out the Email Opening Rate*"
   ]
  },
  {
   "cell_type": "code",
   "execution_count": 23,
   "id": "d84c61e3",
   "metadata": {
    "execution": {
     "iopub.execute_input": "2023-06-28T08:47:26.373328Z",
     "iopub.status.busy": "2023-06-28T08:47:26.372018Z",
     "iopub.status.idle": "2023-06-28T08:47:26.386934Z",
     "shell.execute_reply": "2023-06-28T08:47:26.385624Z"
    },
    "id": "SGFEQQrj_6Dj",
    "jupyter": {
     "source_hidden": true
    },
    "outputId": "5a86b33a-5cb3-457c-e245-2679c0d383e8",
    "papermill": {
     "duration": 0.037704,
     "end_time": "2023-06-28T08:47:26.389432",
     "exception": false,
     "start_time": "2023-06-28T08:47:26.351728",
     "status": "completed"
    },
    "tags": []
   },
   "outputs": [
    {
     "name": "stdout",
     "output_type": "stream",
     "text": [
      "f    28072\n",
      "t     6995\n",
      "Name: opened, dtype: int64\n"
     ]
    }
   ],
   "source": [
    "emails_openedornot=sprint['opened'].value_counts()\n",
    "print(emails_openedornot)"
   ]
  },
  {
   "cell_type": "code",
   "execution_count": 24,
   "id": "f0db5135",
   "metadata": {
    "execution": {
     "iopub.execute_input": "2023-06-28T08:47:26.428784Z",
     "iopub.status.busy": "2023-06-28T08:47:26.428304Z",
     "iopub.status.idle": "2023-06-28T08:47:26.434199Z",
     "shell.execute_reply": "2023-06-28T08:47:26.433384Z"
    },
    "id": "93HaLv2DMvFW",
    "jupyter": {
     "source_hidden": true
    },
    "outputId": "15d588cb-77ab-4c62-9e8e-2d9ea4c3ca46",
    "papermill": {
     "duration": 0.028837,
     "end_time": "2023-06-28T08:47:26.436924",
     "exception": false,
     "start_time": "2023-06-28T08:47:26.408087",
     "status": "completed"
    },
    "tags": []
   },
   "outputs": [
    {
     "name": "stdout",
     "output_type": "stream",
     "text": [
      "20.018888443706714\n"
     ]
    }
   ],
   "source": [
    "openrate=6995/((28072+6995)-125) #emails opened/(Total emails-Bounced Mails)\n",
    "print(openrate*100)"
   ]
  },
  {
   "cell_type": "markdown",
   "id": "0a630255",
   "metadata": {
    "id": "r5SQ-ecxNkFl",
    "papermill": {
     "duration": 0.018406,
     "end_time": "2023-06-28T08:47:26.474403",
     "exception": false,
     "start_time": "2023-06-28T08:47:26.455997",
     "status": "completed"
    },
    "tags": []
   },
   "source": [
    "The **email opening rate thus comes out to be 20.01%**"
   ]
  },
  {
   "cell_type": "markdown",
   "id": "53b76ddf",
   "metadata": {
    "papermill": {
     "duration": 0.018339,
     "end_time": "2023-06-28T08:47:26.511399",
     "exception": false,
     "start_time": "2023-06-28T08:47:26.493060",
     "status": "completed"
    },
    "tags": []
   },
   "source": [
    "# Comparison of CTR and Opening Rate with Industry Benchmarks"
   ]
  },
  {
   "cell_type": "code",
   "execution_count": 25,
   "id": "ecde4e79",
   "metadata": {
    "execution": {
     "iopub.execute_input": "2023-06-28T08:47:26.552488Z",
     "iopub.status.busy": "2023-06-28T08:47:26.551118Z",
     "iopub.status.idle": "2023-06-28T08:47:26.566353Z",
     "shell.execute_reply": "2023-06-28T08:47:26.564883Z"
    },
    "id": "_T-IkST_M5lL",
    "jupyter": {
     "source_hidden": true
    },
    "outputId": "39be7026-5825-4bdd-8efd-81d9e144168d",
    "papermill": {
     "duration": 0.039252,
     "end_time": "2023-06-28T08:47:26.569072",
     "exception": false,
     "start_time": "2023-06-28T08:47:26.529820",
     "status": "completed"
    },
    "tags": []
   },
   "outputs": [
    {
     "name": "stdout",
     "output_type": "stream",
     "text": [
      "              Sprint %age Industry Benchmark %age\n",
      "Opening Rate    20.018888                     18%\n",
      "Click Rate       2.426879                      8%\n",
      "\n",
      "Campaign Result:Failure\n"
     ]
    }
   ],
   "source": [
    "comparison=pd.DataFrame(columns=['Sprint %age','Industry Benchmark %age'])\n",
    "comparison['Sprint %age']=[openrate*100,clickrate*100]\n",
    "comparison['Industry Benchmark %age']=['18%','8%']\n",
    "index=['Opening Rate','Click Rate']\n",
    "comparison.index=index\n",
    "print(comparison)\n",
    "#Printing if campaign is a success or not\n",
    "if((openrate*100)>18) and ((clickrate*100)>8):\n",
    "  print('\\nCampaign Result:Success')\n",
    "else:\n",
    "  print('\\nCampaign Result:Failure')"
   ]
  },
  {
   "cell_type": "markdown",
   "id": "4fc02cfd",
   "metadata": {
    "papermill": {
     "duration": 0.018613,
     "end_time": "2023-06-28T08:47:26.607553",
     "exception": false,
     "start_time": "2023-06-28T08:47:26.588940",
     "status": "completed"
    },
    "tags": []
   },
   "source": [
    "# Inference from Email Analysis:\n",
    "The campaign for Sprint Bikes has been ineffective owing to it not meeting the industry standards. This therefore also contributes to the decline in sales."
   ]
  }
 ],
 "metadata": {
  "kernelspec": {
   "display_name": "Python 3",
   "language": "python",
   "name": "python3"
  },
  "language_info": {
   "codemirror_mode": {
    "name": "ipython",
    "version": 3
   },
   "file_extension": ".py",
   "mimetype": "text/x-python",
   "name": "python",
   "nbconvert_exporter": "python",
   "pygments_lexer": "ipython3",
   "version": "3.10.10"
  },
  "papermill": {
   "default_parameters": {},
   "duration": 19.501602,
   "end_time": "2023-06-28T08:47:27.852683",
   "environment_variables": {},
   "exception": null,
   "input_path": "__notebook__.ipynb",
   "output_path": "__notebook__.ipynb",
   "parameters": {},
   "start_time": "2023-06-28T08:47:08.351081",
   "version": "2.4.0"
  }
 },
 "nbformat": 4,
 "nbformat_minor": 5
}
